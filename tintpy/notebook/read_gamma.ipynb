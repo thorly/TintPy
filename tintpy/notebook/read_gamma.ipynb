{
 "cells": [
  {
   "cell_type": "markdown",
   "metadata": {
    "ExecuteTime": {
     "end_time": "2021-11-16T07:45:05.956773Z",
     "start_time": "2021-11-16T07:45:05.954759Z"
    }
   },
   "source": [
    "# Read or Write GAMMA files"
   ]
  },
  {
   "cell_type": "markdown",
   "metadata": {},
   "source": [
    "**Copyright (c) 2021, Lei Yuan**"
   ]
  },
  {
   "cell_type": "markdown",
   "metadata": {},
   "source": [
    "## all functions"
   ]
  },
  {
   "cell_type": "code",
   "execution_count": 1,
   "metadata": {
    "ExecuteTime": {
     "end_time": "2021-11-17T11:12:53.407349Z",
     "start_time": "2021-11-17T11:12:53.348057Z"
    },
    "code_folding": [
     134,
     153
    ],
    "scrolled": false
   },
   "outputs": [],
   "source": [
    "from pykml.factory import KML_ElementMaker as KML\n",
    "import matplotlib.pyplot as plt\n",
    "import matplotlib as mpl\n",
    "from lxml import etree\n",
    "import numpy as np\n",
    "import os\n",
    "import sys\n",
    "import zipfile\n",
    "from osgeo import gdal, osr\n",
    "\n",
    "\n",
    "def read_gamma(file, lines, file_type):\n",
    "    # check file\n",
    "    if not os.path.isfile(file):\n",
    "        sys.exit('{} does not exist.'.format(file))\n",
    "    data = np.fromfile(file, dtype=file_type)\n",
    "    # GAMMA output files are big-endian\n",
    "    data.byteswap('True')\n",
    "    data = data.reshape(lines, -1)\n",
    "\n",
    "    return data\n",
    "\n",
    "\n",
    "def write_gamma(data, out_file, file_type):\n",
    "    data = data.astype(file_type)\n",
    "    data.byteswap('True')\n",
    "    data.reshape(-1, 1)\n",
    "    print('Writing data to {}'.format(out_file))\n",
    "    data.tofile(out_file)\n",
    "    print('done.')\n",
    "\n",
    "\n",
    "def view_data(data, vlim=None, cmap='jet', title=None, figsize=(10, 10)):\n",
    "    fig, ax = plt.subplots(figsize=figsize)\n",
    "    if title:\n",
    "        ax.set_title(title)\n",
    "    ax.axis('off')\n",
    "\n",
    "    if vlim:\n",
    "        minv, maxv = vlim\n",
    "    else:\n",
    "        minv, maxv = np.nanmin(data), np.nanmax(data)\n",
    "\n",
    "    im = ax.imshow(data, cmap=cmap, vmin=minv, vmax=maxv)\n",
    "\n",
    "    fig.colorbar(im, ax=ax, pad=0.02, ticks=[minv, 0, maxv])\n",
    "\n",
    "\n",
    "def wrap_data(data, wrap_range=[-np.pi, np.pi]):\n",
    "    w0, w1 = wrap_range\n",
    "    wrapped_data = w0 + np.mod(data - w0, w1 - w0)\n",
    "\n",
    "    return wrapped_data\n",
    "\n",
    "\n",
    "def read_dem_par(par_file):\n",
    "    par_key = [\n",
    "        'width', 'nlines', 'corner_lat', 'corner_lon', 'post_lat', 'post_lon'\n",
    "    ]\n",
    "    par_value = []\n",
    "    with open(par_file, 'r') as f:\n",
    "        for line in f.readlines():\n",
    "            for i in par_key:\n",
    "                if line.strip().startswith(i):\n",
    "                    value = line.strip().split()[1]\n",
    "                    if i in ['width', 'nlines']:\n",
    "                        par_value.append(int(value))\n",
    "                    else:\n",
    "                        par_value.append(float(value))\n",
    "\n",
    "    return par_value\n",
    "\n",
    "\n",
    "def get_lon_lat(dem_par):\n",
    "    par_value = read_dem_par(dem_par)\n",
    "    north = par_value[2]\n",
    "    south = north + par_value[4] * par_value[1]\n",
    "    west = par_value[3]\n",
    "    east = west + par_value[5] * par_value[0]\n",
    "\n",
    "    return [south, north, west, east]\n",
    "\n",
    "\n",
    "def data2xyz(data, dem_par, out_file):\n",
    "    par_value = read_dem_par(dem_par)\n",
    "    width, length = par_value[0], par_value[1]\n",
    "    upper_left_lat, upper_left_lon = par_value[2], par_value[3]\n",
    "    lat_step, lon_step = par_value[4], par_value[5]\n",
    "\n",
    "    lon = np.linspace(upper_left_lon, upper_left_lon + lon_step * width, width)\n",
    "    lat = np.linspace(upper_left_lat, upper_left_lat + lat_step * length, length)\n",
    "    lons, lats = np.meshgrid(lon, lat)\n",
    "\n",
    "    lons = lons.reshape((-1, 1))\n",
    "    lats = lats.reshape((-1, 1))\n",
    "    data = data.reshape((-1, 1))\n",
    "\n",
    "    not_nan = ~np.isnan(data)\n",
    "    data = data[not_nan].reshape((-1, 1))\n",
    "    lons = lons[not_nan].reshape((-1, 1))\n",
    "    lats = lats[not_nan].reshape((-1, 1))\n",
    "\n",
    "    out_data = np.hstack((lons, lats, data))\n",
    "    print('Writing data to {}'.format(out_file))\n",
    "    np.savetxt(out_file, out_data, fmt='%4f')\n",
    "    print('done.')\n",
    "\n",
    "\n",
    "def data2geotiff(data, dem_par, outfile):\n",
    "    par_value = read_dem_par(dem_par)\n",
    "    width, nlines = par_value[0], par_value[1]\n",
    "    lat_step, lon_step = par_value[4], par_value[5]\n",
    "    lon_lat = get_lon_lat(dem_par)\n",
    "    max_lat, min_lon = lon_lat[1], lon_lat[2]\n",
    "\n",
    "    driver = gdal.GetDriverByName('GTiff')\n",
    "    dataset = driver.Create(outfile, width, nlines, 1, gdal.GDT_Float32)\n",
    "\n",
    "    dataset.SetGeoTransform([min_lon, lon_step, 0, max_lat, 0, lat_step])\n",
    "\n",
    "    sr = osr.SpatialReference()\n",
    "    sr.SetWellKnownGeogCS('WGS84')\n",
    "\n",
    "    dataset.SetProjection(sr.ExportToWkt())\n",
    "    dataset.GetRasterBand(1).WriteArray(data)\n",
    "    print('Writing data to {}.'.format(outfile))\n",
    "    dataset.FlushCache()\n",
    "    dataset = None\n",
    "    print('done.')\n",
    "\n",
    "\n",
    "def draw_colorbar(vlim, cmap, label, out_file, figsize=(0.18, 3.6)):\n",
    "    fig, ax = plt.subplots(figsize=figsize)\n",
    "\n",
    "    cmap = plt.get_cmap(cmap)\n",
    "    minv, maxv = vlim\n",
    "    norm = mpl.colors.Normalize(vmin=minv, vmax=maxv)\n",
    "    fig.patch.set_facecolor('white')\n",
    "    fig.colorbar(mpl.cm.ScalarMappable(norm=norm, cmap=cmap),cax=ax, orientation='vertical', label=label, ticks=[minv, 0, maxv])\n",
    "    fig.savefig(out_file, bbox_inches='tight', dpi=300)\n",
    "\n",
    "\n",
    "def draw_img_pwr(img_data, cmap, pwr_data=None, vlim=None, out_file=None, withcmap=False, figsize=(10, 10)):\n",
    "    if vlim:\n",
    "        minv, maxv = vlim\n",
    "    else:\n",
    "        minv, maxv = np.nanmin(img_data), np.nanmax(img_data)\n",
    "\n",
    "    img_data[img_data==0.0] = np.nan\n",
    "    # scale data to the range 0 -> 1\n",
    "    dt = (img_data - minv) / (maxv - minv)\n",
    "\n",
    "    # create RGB display of the data in the range 0 -> 1\n",
    "    cmap = mpl.cm.get_cmap(cmap)\n",
    "    img_rgba = cmap(dt, bytes=True)\n",
    "    r, g, b, a = np.rollaxis(img_rgba, axis=-1)\n",
    "\n",
    "    if pwr_data is not None:\n",
    "        exp, sc = 0.35, 1.0\n",
    "        pwr = np.abs(pwr_data)\n",
    "        # all points that are non-zero\n",
    "        idx = np.nonzero(pwr)\n",
    "        # scale these data values and evaluate the mean value\n",
    "        pwr = np.power(pwr, exp)  \n",
    "        ave = pwr[idx].mean()\n",
    "        # determine default clip value\n",
    "        cv = 2.0 * ave / sc\n",
    "        v = (pwr.clip(0., cv)) / cv\n",
    "        v[v==0.0] = np.nan\n",
    "        # multiply by v to get scaled RGB\n",
    "        r = (r.astype(np.float32) * v).astype(np.uint8)\n",
    "        b = (b.astype(np.float32) * v).astype(np.uint8)\n",
    "        g = (g.astype(np.float32) * v).astype(np.uint8)\n",
    "\n",
    "    img_rgba = np.dstack([r, g, b, a])\n",
    "\n",
    "    fig, ax = plt.subplots(figsize=figsize)\n",
    "    ax.axis('off')\n",
    "\n",
    "    if pwr_data is None:\n",
    "        ax.imshow(img_rgba)\n",
    "    else:\n",
    "        ax.imshow(v, zorder=0, cmap='gray')\n",
    "        ax.imshow(img_rgba, zorder=1)\n",
    "\n",
    "    if withcmap:\n",
    "        norm = mpl.colors.Normalize(vmin=minv, vmax=maxv)\n",
    "        fig.colorbar(mpl.cm.ScalarMappable(norm=norm, cmap=cmap),ax=ax, orientation='vertical', pad=0.02, ticks=[minv, 0, maxv])\n",
    "\n",
    "    if out_file:\n",
    "        fig.savefig(out_file, pad_inches=0.0, bbox_inches='tight', dpi=600, transparent=True)\n",
    "\n",
    "\n",
    "def make_kmz(data, lon_lat, out_kmz, pwr_data=None, cmap='jet', vlim=None, label=None):\n",
    "    out_kmz = os.path.abspath(out_kmz)\n",
    "    if out_kmz.endswith('.kmz'):\n",
    "        out_kmz = out_kmz[:-4]\n",
    "\n",
    "    out_dir = os.path.dirname(out_kmz)\n",
    "    cbar_file = os.path.join(out_dir, 'cbar.png')\n",
    "    img_file = os.path.join(out_dir, 'img.png')\n",
    "\n",
    "    if vlim is None:\n",
    "        vlim = [np.nanmin(data), np.nanmax(data)]\n",
    "\n",
    "    print('drawing colorbar')\n",
    "    draw_colorbar(vlim, cmap, label, cbar_file)\n",
    "    if pwr_data:\n",
    "        print('drawing image with pwr data')\n",
    "    print('drawing image')\n",
    "    draw_img_pwr(data, cmap, pwr_data=pwr_data, vlim=vlim, out_file=img_file, withcmap=False)\n",
    "\n",
    "    south, north, west, east = lon_lat\n",
    "\n",
    "    doc = KML.kml(KML.Folder(KML.name(os.path.basename(out_kmz))))\n",
    "    img_displayed = KML.GroundOverlay(\n",
    "        KML.name('img'), KML.Icon(KML.href('img.png')),\n",
    "        KML.LatLonBox(KML.north(str(north)), KML.south(str(south)), KML.east(str(east)), KML.west(str(west))))\n",
    "    doc.Folder.append(img_displayed)\n",
    "\n",
    "    legend = KML.ScreenOverlay(\n",
    "        KML.name('colorbar'),\n",
    "        KML.Icon(KML.href('cbar.png'), KML.viewBoundScale(0.75)),\n",
    "        KML.overlayXY(\n",
    "            x=\"0.0\",\n",
    "            y=\"1\",\n",
    "            xunits=\"fraction\",\n",
    "            yunits=\"fraction\",\n",
    "        ), KML.screenXY(\n",
    "            x=\"0.0\",\n",
    "            y=\"1\",\n",
    "            xunits=\"fraction\",\n",
    "            yunits=\"fraction\",\n",
    "        ),\n",
    "        KML.rotationXY(\n",
    "            x=\"0.\",\n",
    "            y=\"1.\",\n",
    "            xunits=\"fraction\",\n",
    "            yunits=\"fraction\",\n",
    "        ), KML.size(\n",
    "            x=\"0\",\n",
    "            y=\"250\",\n",
    "            xunits=\"pixel\",\n",
    "            yunits=\"pixel\",\n",
    "        ), KML.visibility(1), KML.open(0))\n",
    "\n",
    "    doc.Folder.append(legend)\n",
    "\n",
    "    kml_str = etree.tostring(doc, pretty_print=True)\n",
    "    kml = out_kmz + '.kml'\n",
    "    with open(kml, 'wb') as f:\n",
    "        f.write(kml_str)\n",
    "\n",
    "    kmz = out_kmz + '.kmz'\n",
    "    print('writing data to {}'.format(kmz))\n",
    "    with zipfile.ZipFile(kmz, 'w') as f:\n",
    "        os.chdir(out_dir)\n",
    "        f.write(os.path.basename(kml))\n",
    "        os.remove(kml)\n",
    "        f.write('img.png')\n",
    "        os.remove('img.png')\n",
    "        f.write('cbar.png')\n",
    "        os.remove('cbar.png')\n",
    "\n",
    "\n",
    "def cm2cpt(cm_file, cpt):\n",
    "    cm = np.loadtxt(cm_file, dtype=np.uint8)\n",
    "    lines = cm.shape[0]\n",
    "    step = np.linspace(0,1,lines)\n",
    "    with open(cpt, 'w+', encoding='utf-8') as f:\n",
    "        bar = '-' * 85\n",
    "        f.write(f'#{bar}\\n')\n",
    "        f.write('# COLOR_MODEL = RGB\\n')\n",
    "        f.write(f'#{bar}\\n')\n",
    "        for l in range(lines-1):\n",
    "            rgb0 = f'{cm[l][0]}/{cm[l][1]}/{cm[l][2]}'\n",
    "            rgb1 = f'{cm[l+1][0]}/{cm[l+1][1]}/{cm[l+1][2]}'\n",
    "\n",
    "            f.write(f'{step[l]:<22} {rgb0:<13} {step[l+1]:<22} {rgb1:<13}\\n')\n",
    "\n",
    "        f.write(f'#{bar}\\n')\n",
    "        f.write(f'B {cm[0][0]}/{cm[0][1]}/{cm[0][2]}\\n')\n",
    "        f.write(f'F white\\n')\n",
    "        f.write(f'N {cm[0][0]}/{cm[0][1]}/{cm[0][2]}\\n')\n",
    "        f.write(f'#{bar}\\n')\n",
    "\n",
    "\n",
    "def register_cmap(cmap_file, cmap_name):\n",
    "    cm = mpl.colors.ListedColormap(np.loadtxt(cmap_file, dtype='float') / 255.0, cmap_name)\n",
    "    plt.cm.register_cmap(cmap=cm)\n",
    "\n",
    "    return cm\n",
    "\n",
    "cmap_dir = os.path.join(os.environ['TINTPY_HOME'], 'tintpy', 'data', 'colormaps')\n",
    "if os.path.isdir(cmap_dir):\n",
    "    cm = register_cmap(os.path.join(cmap_dir, 'rmg_hs.cm'), 'rmg_hs')"
   ]
  },
  {
   "cell_type": "markdown",
   "metadata": {},
   "source": [
    "## read unwrapped file"
   ]
  },
  {
   "cell_type": "code",
   "execution_count": null,
   "metadata": {
    "ExecuteTime": {
     "end_time": "2021-11-17T11:27:40.901092Z",
     "start_time": "2021-11-17T11:27:40.890575Z"
    },
    "scrolled": true
   },
   "outputs": [],
   "source": [
    "os.chdir(r'/media/ly/file/Iran/DInSAR/diff')\n",
    "\n",
    "unw = read_gamma('20171111_20171117.adf.unw', 1362, np.float32)\n",
    "\n",
    "view_data(unw, cmap='rmg_hs', title='unw', figsize=(8, 8), vlim=[-201, 201])\n",
    "\n",
    "# write_gamma(unw, 'file_by_python.unw', np.float32)"
   ]
  },
  {
   "cell_type": "markdown",
   "metadata": {},
   "source": [
    "## read coherence"
   ]
  },
  {
   "cell_type": "code",
   "execution_count": null,
   "metadata": {
    "ExecuteTime": {
     "end_time": "2021-11-16T07:34:17.329441Z",
     "start_time": "2021-11-16T07:34:17.023767Z"
    },
    "scrolled": false
   },
   "outputs": [],
   "source": [
    "cc = read_gamma('20171111_20171117.adf.cc', 1362, 'float32')\n",
    "cc[cc==0]=np.nan\n",
    "view_data(cc, cmap='gray', title='cc')\n",
    "\n",
    "# write_gamma(cc, 'file_by_python.cc', 'float32)"
   ]
  },
  {
   "cell_type": "markdown",
   "metadata": {},
   "source": [
    "## read interferogram"
   ]
  },
  {
   "cell_type": "code",
   "execution_count": null,
   "metadata": {
    "ExecuteTime": {
     "end_time": "2021-11-16T07:35:45.706784Z",
     "start_time": "2021-11-16T07:35:45.396701Z"
    }
   },
   "outputs": [],
   "source": [
    "data = read_gamma('20171111_20171117.adf.diff', 1362, 'complex64')\n",
    "\n",
    "# rmg_hs is recommanded for interferogram\n",
    "view_data(np.angle(data), cmap='rmg_hs', title='diff')\n",
    "\n",
    "# write_gamma(data, 'file_by_python.diff', 'complex64)"
   ]
  },
  {
   "cell_type": "markdown",
   "metadata": {},
   "source": [
    "## wrap data"
   ]
  },
  {
   "cell_type": "code",
   "execution_count": null,
   "metadata": {
    "ExecuteTime": {
     "end_time": "2021-11-16T07:37:26.654551Z",
     "start_time": "2021-11-16T07:37:26.357806Z"
    },
    "scrolled": false
   },
   "outputs": [],
   "source": [
    "data = read_gamma('20171111_20171117.adf.unw', 1362, np.float32)\n",
    "\n",
    "wrapped_data = wrap_data(data, wrap_range=[-np.pi, np.pi])\n",
    "\n",
    "# rmg_hs is recommanded for interferogram\n",
    "view_data(wrapped_data, cmap='rmg_hs', title='wrap')"
   ]
  },
  {
   "cell_type": "markdown",
   "metadata": {},
   "source": [
    "## mask data using coherence"
   ]
  },
  {
   "cell_type": "code",
   "execution_count": null,
   "metadata": {
    "ExecuteTime": {
     "end_time": "2021-11-16T07:38:31.871649Z",
     "start_time": "2021-11-16T07:38:31.593242Z"
    }
   },
   "outputs": [],
   "source": [
    "unw = read_gamma('20171111_20171117.adf.unw', 1362, np.float32)\n",
    "cc = read_gamma('20171111_20171117.adf.cc', 1362, np.float32)\n",
    "\n",
    "unw[cc < 0.2] = np.nan\n",
    "\n",
    "view_data(unw, cmap='jet', title='masked unw')"
   ]
  },
  {
   "cell_type": "markdown",
   "metadata": {},
   "source": [
    "## data2xyz"
   ]
  },
  {
   "cell_type": "code",
   "execution_count": null,
   "metadata": {
    "ExecuteTime": {
     "end_time": "2021-11-16T07:40:45.436773Z",
     "start_time": "2021-11-16T07:40:45.420485Z"
    },
    "scrolled": true
   },
   "outputs": [],
   "source": [
    "unw = read_gamma('20171111_20171117.adf.unw', 1362, np.float32)\n",
    "\n",
    "data2xyz(unw, 'dem_seg.par', 'unw.txt')"
   ]
  },
  {
   "cell_type": "markdown",
   "metadata": {},
   "source": [
    "## data2geotiff"
   ]
  },
  {
   "cell_type": "code",
   "execution_count": null,
   "metadata": {},
   "outputs": [],
   "source": [
    "unw = read_gamma('20171111_20171117.adf.unw', 1362, np.float32)\n",
    "\n",
    "data2geotiff(unw, 'dem_seg.par', 'unw.tif')"
   ]
  },
  {
   "cell_type": "markdown",
   "metadata": {},
   "source": [
    "## data2kmz"
   ]
  },
  {
   "cell_type": "code",
   "execution_count": null,
   "metadata": {
    "ExecuteTime": {
     "end_time": "2021-11-17T11:16:55.812089Z",
     "start_time": "2021-11-17T11:16:54.914402Z"
    },
    "scrolled": false
   },
   "outputs": [],
   "source": [
    "os.chdir('/media/ly/file/Iran/DInSAR/geo')\n",
    "\n",
    "lon_lat = get_lon_lat('dem_seg.par')\n",
    "_, nlines, _, _, _, _ = read_dem_par('dem_seg.par')\n",
    "\n",
    "unw = read_gamma('20171111_20171117.adf.unw.geo', nlines, 'float32')\n",
    "\n",
    "make_kmz(unw, lon_lat, 'unw_no_pwr.kmz', pwr_data=None, cmap='rmg_hs', vlim=[-201, 201], label='phase')"
   ]
  },
  {
   "cell_type": "code",
   "execution_count": null,
   "metadata": {
    "ExecuteTime": {
     "end_time": "2021-11-17T11:21:19.618354Z",
     "start_time": "2021-11-17T11:21:17.613299Z"
    }
   },
   "outputs": [],
   "source": [
    "# using pwr as background image\n",
    "\n",
    "lon_lat = get_lon_lat('dem_seg.par')\n",
    "_, nlines, _, _, _, _ = read_dem_par('dem_seg.par')\n",
    "\n",
    "unw = read_gamma('20171111_20171117.adf.unw.geo', nlines, 'float32')\n",
    "\n",
    "pwr_data = read_gamma('20171111.rmli.geo', nlines, 'float32')\n",
    "\n",
    "make_kmz(unw, lon_lat, 'unw_pwr.kmz', pwr_data=pwr_data, cmap='rmg_hs', vlim=[-201, 201], label='phase')"
   ]
  },
  {
   "cell_type": "code",
   "execution_count": null,
   "metadata": {},
   "outputs": [],
   "source": []
  }
 ],
 "metadata": {
  "kernelspec": {
   "display_name": "Python 3",
   "language": "python",
   "name": "python3"
  },
  "language_info": {
   "codemirror_mode": {
    "name": "ipython",
    "version": 3
   },
   "file_extension": ".py",
   "mimetype": "text/x-python",
   "name": "python",
   "nbconvert_exporter": "python",
   "pygments_lexer": "ipython3",
   "version": "3.8.10"
  },
  "toc": {
   "base_numbering": 1,
   "nav_menu": {},
   "number_sections": true,
   "sideBar": true,
   "skip_h1_title": false,
   "title_cell": "Table of Contents",
   "title_sidebar": "Contents",
   "toc_cell": false,
   "toc_position": {
    "height": "calc(100% - 180px)",
    "left": "10px",
    "top": "150px",
    "width": "198.188px"
   },
   "toc_section_display": true,
   "toc_window_display": true
  },
  "varInspector": {
   "cols": {
    "lenName": 16,
    "lenType": 16,
    "lenVar": 40
   },
   "kernels_config": {
    "python": {
     "delete_cmd_postfix": "",
     "delete_cmd_prefix": "del ",
     "library": "var_list.py",
     "varRefreshCmd": "print(var_dic_list())"
    },
    "r": {
     "delete_cmd_postfix": ") ",
     "delete_cmd_prefix": "rm(",
     "library": "var_list.r",
     "varRefreshCmd": "cat(var_dic_list()) "
    }
   },
   "types_to_exclude": [
    "module",
    "function",
    "builtin_function_or_method",
    "instance",
    "_Feature"
   ],
   "window_display": false
  }
 },
 "nbformat": 4,
 "nbformat_minor": 4
}
