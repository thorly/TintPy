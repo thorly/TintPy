{
 "cells": [
  {
   "cell_type": "markdown",
   "metadata": {
    "ExecuteTime": {
     "end_time": "2021-11-16T07:45:05.956773Z",
     "start_time": "2021-11-16T07:45:05.954759Z"
    }
   },
   "source": [
    "# Read or Write GAMMA files"
   ]
  },
  {
   "cell_type": "markdown",
   "metadata": {},
   "source": [
    "**Copyright (c) 2021, Lei Yuan**"
   ]
  },
  {
   "cell_type": "markdown",
   "metadata": {},
   "source": [
    "## all functions"
   ]
  },
  {
   "cell_type": "code",
   "execution_count": null,
   "metadata": {
    "ExecuteTime": {
     "end_time": "2021-11-17T11:12:53.407349Z",
     "start_time": "2021-11-17T11:12:53.348057Z"
    },
    "code_folding": [
     134,
     153
    ],
    "scrolled": false
   },
   "outputs": [],
   "source": [
    "from mpl_toolkits.axes_grid1 import make_axes_locatable\n",
    "from pykml.factory import KML_ElementMaker as KML\n",
    "import matplotlib.pyplot as plt\n",
    "import matplotlib as mpl\n",
    "from lxml import etree\n",
    "import numpy as np\n",
    "import os\n",
    "import sys\n",
    "import zipfile\n",
    "from osgeo import gdal, osr\n",
    "from matplotlib.colors import LightSource, ListedColormap\n",
    "from matplotlib.cm import register_cmap\n",
    "%matplotlib inline\n",
    "\n",
    "\n",
    "def read_gamma(file, lines, file_type):\n",
    "    # check file\n",
    "    if not os.path.isfile(file):\n",
    "        sys.exit('{} does not exist.'.format(file))\n",
    "    data = np.fromfile(file, dtype=file_type)\n",
    "    # GAMMA output files are big-endian\n",
    "    data.byteswap('True')\n",
    "    data = data.reshape(lines, -1)\n",
    "\n",
    "    return data\n",
    "\n",
    "\n",
    "def write_gamma(data, out_file, file_type):\n",
    "    data = data.astype(file_type)\n",
    "    data.byteswap('True')\n",
    "    data.reshape(-1, 1)\n",
    "    print('Writing data to {}'.format(out_file))\n",
    "    data.tofile(out_file)\n",
    "    print('done.')\n",
    "\n",
    "\n",
    "def plot_data(data, cmap='jet', title=None, figsize=(10, 10)):\n",
    "    fig, ax = plt.subplots(figsize=figsize)\n",
    "    if title:\n",
    "        ax.set_title(title)\n",
    "    im = ax.imshow(data, cmap=cmap)\n",
    "    divider = make_axes_locatable(ax)\n",
    "    cax = divider.append_axes('right', size='6%', pad=0.2)\n",
    "    fig.colorbar(im, cax=cax)\n",
    "\n",
    "\n",
    "def wrap_data(data, wrap_range=[-np.pi, np.pi]):\n",
    "    w0, w1 = wrap_range\n",
    "    wrapped_data = w0 + np.mod(data - w0, w1 - w0)\n",
    "\n",
    "    return wrapped_data\n",
    "\n",
    "\n",
    "def read_dem_par(par_file):\n",
    "    par_key = [\n",
    "        'width', 'nlines', 'corner_lat', 'corner_lon', 'post_lat', 'post_lon'\n",
    "    ]\n",
    "    par_value = []\n",
    "    with open(par_file, 'r') as f:\n",
    "        for line in f.readlines():\n",
    "            for i in par_key:\n",
    "                if line.strip().startswith(i):\n",
    "                    value = line.strip().split()[1]\n",
    "                    if i in ['width', 'nlines']:\n",
    "                        par_value.append(int(value))\n",
    "                    else:\n",
    "                        par_value.append(float(value))\n",
    "\n",
    "    return par_value\n",
    "\n",
    "\n",
    "def get_lon_lat(dem_par):\n",
    "    par_value = read_dem_par(dem_par)\n",
    "    north = par_value[2]\n",
    "    south = north + par_value[4] * par_value[1]\n",
    "    west = par_value[3]\n",
    "    east = west + par_value[5] * par_value[0]\n",
    "\n",
    "    return [south, north, west, east]\n",
    "\n",
    "\n",
    "def data2xyz(data, dem_par, out_file):\n",
    "    par_value = read_dem_par(dem_par)\n",
    "    width, length = par_value[0], par_value[1]\n",
    "    upper_left_lat, upper_left_lon = par_value[2], par_value[3]\n",
    "    lat_step, lon_step = par_value[4], par_value[5]\n",
    "\n",
    "    if data.shape[1] == width and data.shape[0] == length:\n",
    "        lon = np.linspace(upper_left_lon, upper_left_lon + lon_step * width, width)\n",
    "        lat = np.linspace(upper_left_lat, upper_left_lat + lat_step * length, length)\n",
    "        lons, lats = np.meshgrid(lon, lat)\n",
    "\n",
    "        lons = lons.reshape((-1, 1))\n",
    "        lats = lats.reshape((-1, 1))\n",
    "        data = data.reshape((-1, 1))\n",
    "\n",
    "        not_nan = ~np.isnan(data)\n",
    "        data = data[not_nan].reshape((-1, 1))\n",
    "        lons = lons[not_nan].reshape((-1, 1))\n",
    "        lats = lats[not_nan].reshape((-1, 1))\n",
    "\n",
    "        out_data = np.hstack((lons, lats, data))\n",
    "        print('Writing data to {}'.format(out_file))\n",
    "        np.savetxt(out_file, out_data, fmt='%4f')\n",
    "        print('done.')\n",
    "    else:\n",
    "        print('Error data.')\n",
    "\n",
    "\n",
    "def data2geotiff(data, dem_par, outfile):\n",
    "    par_value = read_dem_par(dem_par)\n",
    "    width, nlines = par_value[0], par_value[1]\n",
    "    lat_step, lon_step = par_value[4], par_value[5]\n",
    "    lon_lat = get_lon_lat(dem_par)\n",
    "    max_lat, min_lon = lon_lat[1], lon_lat[2]\n",
    "\n",
    "    driver = gdal.GetDriverByName('GTiff')\n",
    "    dataset = driver.Create(outfile, width, nlines, 1, gdal.GDT_Float32)\n",
    "\n",
    "    dataset.SetGeoTransform([min_lon, lon_step, 0, max_lat, 0, lat_step])\n",
    "\n",
    "    sr = osr.SpatialReference()\n",
    "    sr.SetWellKnownGeogCS('WGS84')\n",
    "\n",
    "    dataset.SetProjection(sr.ExportToWkt())\n",
    "    dataset.GetRasterBand(1).WriteArray(data)\n",
    "    print('Writing data to {}.'.format(outfile))\n",
    "    dataset.FlushCache()\n",
    "    dataset = None\n",
    "    print('done.')\n",
    "\n",
    "\n",
    "def plot_colorbar(vlim, cmap, figsize, nbins, alpha, out_file):\n",
    "    fig, cax = plt.subplots(figsize=figsize)\n",
    "    norm = mpl.colors.Normalize(vmin=vlim[0], vmax=vlim[1])\n",
    "    cmap = plt.get_cmap(cmap)\n",
    "    cbar = mpl.colorbar.ColorbarBase(cax, cmap=cmap, norm=norm, orientation='vertical')\n",
    "    cbar.locator = mpl.ticker.MaxNLocator(nbins=nbins)\n",
    "    cbar.update_ticks()\n",
    "    cbar.ax.tick_params(which='both', labelsize=12)\n",
    "    fig.patch.set_facecolor('white')\n",
    "    fig.patch.set_alpha(alpha)\n",
    "    fig.savefig(out_file, bbox_inches='tight', facecolor=fig.get_facecolor(), dpi=300)\n",
    "\n",
    "\n",
    "def plot_img(data, vlim, cmap, alpha, dpi, out_file, dem_data=None):\n",
    "    fig = plt.figure(frameon=False)\n",
    "    ax = fig.add_axes([0., 0., 1., 1.])\n",
    "    ax.set_axis_off()\n",
    "    cmap = plt.get_cmap(cmap)\n",
    "    if dem_data is None:\n",
    "        ax.imshow(data, aspect='auto', vmax=vlim[1], vmin=vlim[0], cmap=cmap)\n",
    "    else:\n",
    "        ls = LightSource(azdeg=315, altdeg=45)\n",
    "        dem_shade = ls.shade(dem_data, cmap=plt.get_cmap('gray'))\n",
    "        ax.imshow(dem_shade, zorder=0)\n",
    "        ax.imshow(data, aspect='auto', vmax=vlim[1], vmin=vlim[0], cmap=cmap, zorder=1, alpha=alpha)\n",
    "    fig.savefig(out_file, pad_inches=0.0, transparent=True, interpolation='nearest', dpi=dpi)\n",
    "\n",
    "\n",
    "def write_kmz(data, lon_lat, out_file, dem_data=None, cmap='jet', alpha=1, dpi=300, colorbar_size=(0.18, 3.6), nbins=2, vlim=[-60, 60]):\n",
    "    out_file = os.path.abspath(out_file)\n",
    "    if out_file.endswith('.kmz'):\n",
    "        out_file = out_file[:-4]\n",
    "\n",
    "    out_dir = os.path.dirname(out_file)\n",
    "\n",
    "    colorbar_file = os.path.join(out_dir, 'colorbar.png')\n",
    "    plot_colorbar(vlim, cmap, colorbar_size, nbins, alpha, colorbar_file)\n",
    "\n",
    "    img_file = os.path.join(out_dir, 'img.png')\n",
    "    plot_img(data, vlim, cmap, alpha, dpi, img_file, dem_data=dem_data)\n",
    "\n",
    "    south, north, west, east = lon_lat\n",
    "\n",
    "    doc = KML.kml(KML.Folder(KML.name(os.path.basename(out_file))))\n",
    "    img_displayed = KML.GroundOverlay(\n",
    "        KML.name('img'), KML.Icon(KML.href('img.png')),\n",
    "        KML.LatLonBox(KML.north(str(north)), KML.south(str(south)),\n",
    "                      KML.east(str(east)), KML.west(str(west))))\n",
    "    doc.Folder.append(img_displayed)\n",
    "\n",
    "    legend = KML.ScreenOverlay(\n",
    "        KML.name('colorbar'),\n",
    "        KML.Icon(KML.href('colorbar.png'), KML.viewBoundScale(0.75)),\n",
    "        KML.overlayXY(\n",
    "            x=\"0.0\",\n",
    "            y=\"1\",\n",
    "            xunits=\"fraction\",\n",
    "            yunits=\"fraction\",\n",
    "        ), KML.screenXY(\n",
    "            x=\"0.0\",\n",
    "            y=\"1\",\n",
    "            xunits=\"fraction\",\n",
    "            yunits=\"fraction\",\n",
    "        ),\n",
    "        KML.rotationXY(\n",
    "            x=\"0.\",\n",
    "            y=\"1.\",\n",
    "            xunits=\"fraction\",\n",
    "            yunits=\"fraction\",\n",
    "        ), KML.size(\n",
    "            x=\"0\",\n",
    "            y=\"250\",\n",
    "            xunits=\"pixel\",\n",
    "            yunits=\"pixel\",\n",
    "        ), KML.visibility(1), KML.open(0))\n",
    "\n",
    "    doc.Folder.append(legend)\n",
    "\n",
    "    kml_str = etree.tostring(doc, pretty_print=True)\n",
    "    kml_name = out_file + '.kml'\n",
    "    with open(kml_name, 'wb') as f:\n",
    "        f.write(kml_str)\n",
    "\n",
    "    kmz_name = out_file + '.kmz'\n",
    "    with zipfile.ZipFile(kmz_name, 'w') as f:\n",
    "        os.chdir(out_dir)\n",
    "        f.write(os.path.basename(kml_name))\n",
    "        os.remove(os.path.basename(kml_name))\n",
    "        f.write('img.png')\n",
    "        os.remove('img.png')\n",
    "        f.write('colorbar.png')\n",
    "        os.remove('colorbar.png')\n",
    "\n",
    "\n",
    "def register_cmap(cmap_file, cmap_name):\n",
    "    cm = ListedColormap(\n",
    "        np.loadtxt(cmap_file, dtype='float') / 255.0, cmap_name)\n",
    "    plt.cm.register_cmap(cmap=cm)\n",
    "\n",
    "    return cm\n",
    "\n",
    "\n",
    "cm = register_cmap(os.path.join(os.environ['TINTPY_HOME'], 'tintpy', 'data', 'colormaps', 'rmg_hs.cm'), 'rmg_hs')"
   ]
  },
  {
   "cell_type": "markdown",
   "metadata": {},
   "source": [
    "## read unwrapped file"
   ]
  },
  {
   "cell_type": "code",
   "execution_count": null,
   "metadata": {
    "ExecuteTime": {
     "end_time": "2021-11-17T11:27:40.901092Z",
     "start_time": "2021-11-17T11:27:40.890575Z"
    },
    "scrolled": true
   },
   "outputs": [],
   "source": [
    "os.chdir(r'/ly/diff_2d')\n",
    "\n",
    "unw = read_gamma('unw', 5848, np.float32)\n",
    "\n",
    "plot_data(unw, cmap='rmg_hs', title='unw', figsize=(8, 8))\n",
    "\n",
    "# write_gamma(unw, 'file_by_python.unw', np.float32)"
   ]
  },
  {
   "cell_type": "markdown",
   "metadata": {},
   "source": [
    "## read coherence"
   ]
  },
  {
   "cell_type": "code",
   "execution_count": null,
   "metadata": {
    "ExecuteTime": {
     "end_time": "2021-11-16T07:34:17.329441Z",
     "start_time": "2021-11-16T07:34:17.023767Z"
    },
    "scrolled": false
   },
   "outputs": [],
   "source": [
    "cc = read_gamma('20171119_20171213.cc', 465, 'float32')\n",
    "cc[cc == 0] = np.nan\n",
    "\n",
    "plot_data(cc, cmap='gray', title='cc')\n",
    "\n",
    "# write_gamma(cc, 'file_by_python.cc', 'float32)"
   ]
  },
  {
   "cell_type": "markdown",
   "metadata": {},
   "source": [
    "## read interferogram"
   ]
  },
  {
   "cell_type": "code",
   "execution_count": null,
   "metadata": {
    "ExecuteTime": {
     "end_time": "2021-11-16T07:35:45.706784Z",
     "start_time": "2021-11-16T07:35:45.396701Z"
    }
   },
   "outputs": [],
   "source": [
    "data = read_gamma('20171119_20171225.adf.diff', 465, 'complex64')\n",
    "\n",
    "# rmg_hs is recommanded for interferogram\n",
    "plot_data(np.angle(data), cmap='rmg_hs', title='diff')\n",
    "\n",
    "# write_gamma(data, 'file_by_python.diff', 'complex64)"
   ]
  },
  {
   "cell_type": "markdown",
   "metadata": {},
   "source": [
    "## wrap data"
   ]
  },
  {
   "cell_type": "code",
   "execution_count": null,
   "metadata": {
    "ExecuteTime": {
     "end_time": "2021-11-16T07:37:26.654551Z",
     "start_time": "2021-11-16T07:37:26.357806Z"
    },
    "scrolled": false
   },
   "outputs": [],
   "source": [
    "data = read_gamma('20171119_20171225.adf.unw', 465, 'float32')\n",
    "\n",
    "wrapped_data = wrap_data(data, wrap_range=[-np.pi, np.pi])\n",
    "\n",
    "# rmg_hs is recommanded for interferogram\n",
    "plot_data(wrapped_data, cmap='rmg_hs', title='wrap')"
   ]
  },
  {
   "cell_type": "markdown",
   "metadata": {},
   "source": [
    "## mask data using coherence"
   ]
  },
  {
   "cell_type": "code",
   "execution_count": null,
   "metadata": {
    "ExecuteTime": {
     "end_time": "2021-11-16T07:38:31.871649Z",
     "start_time": "2021-11-16T07:38:31.593242Z"
    }
   },
   "outputs": [],
   "source": [
    "unw = read_gamma('20171119_20171225.adf.unw', 465, 'float32')\n",
    "cc = read_gamma('20171119_20171213.cc', 465, 'float32')\n",
    "\n",
    "unw[cc < 0.2] = np.nan\n",
    "\n",
    "plot_data(unw, cmap='jet', title='masked unw')"
   ]
  },
  {
   "cell_type": "markdown",
   "metadata": {},
   "source": [
    "## data2xyz"
   ]
  },
  {
   "cell_type": "code",
   "execution_count": null,
   "metadata": {
    "ExecuteTime": {
     "end_time": "2021-11-16T07:40:45.436773Z",
     "start_time": "2021-11-16T07:40:45.420485Z"
    },
    "scrolled": true
   },
   "outputs": [],
   "source": [
    "unw = read_gamma('20171119_20171225.adf.unw', 465, 'float32')\n",
    "\n",
    "data2xyz(unw, 'dem_seg.par', 'unw.txt')"
   ]
  },
  {
   "cell_type": "markdown",
   "metadata": {},
   "source": [
    "## data2geotiff"
   ]
  },
  {
   "cell_type": "code",
   "execution_count": null,
   "metadata": {},
   "outputs": [],
   "source": [
    "unw = read_gamma('20171119_20171225.adf.unw', 465, 'float32')\n",
    "\n",
    "data2geotiff(unw, 'dem_seg.par', 'unw.tif')"
   ]
  },
  {
   "cell_type": "markdown",
   "metadata": {},
   "source": [
    "## data2kmz"
   ]
  },
  {
   "cell_type": "code",
   "execution_count": null,
   "metadata": {
    "ExecuteTime": {
     "end_time": "2021-11-17T11:16:55.812089Z",
     "start_time": "2021-11-17T11:16:54.914402Z"
    },
    "scrolled": false
   },
   "outputs": [],
   "source": [
    "lon_lat = get_lon_lat('dem_seg.par')\n",
    "_, nlines, _, _, _, _ = read_dem_par('dem_seg.par')\n",
    "\n",
    "unw = read_gamma('geo_ph_rate', nlines, 'float32')\n",
    "unw[unw == 0] = np.nan\n",
    "\n",
    "write_kmz(unw, lon_lat, 'wrap.kmz', cmap='rmg_hs', value_range=[-10, 10], alpha=1)"
   ]
  },
  {
   "cell_type": "code",
   "execution_count": null,
   "metadata": {
    "ExecuteTime": {
     "end_time": "2021-11-17T11:21:19.618354Z",
     "start_time": "2021-11-17T11:21:17.613299Z"
    }
   },
   "outputs": [],
   "source": [
    "# using dem as background image\n",
    "lon_lat = get_lon_lat('dem_seg.par')\n",
    "_, nlines, _, _, _, _ = read_dem_par('dem_seg.par')\n",
    "\n",
    "unw = read_gamma('geo_ph_rate', nlines, 'float32')\n",
    "\n",
    "dem_data = read_gamma('dem_seg', nlines, 'float32')\n",
    "\n",
    "write_kmz(unw, lon_lat, 'unw.kmz', cmap='jet', vlim=[-10, 10], alpha=0.6, dem_data=dem_data, dpi=500)"
   ]
  }
 ],
 "metadata": {
  "kernelspec": {
   "display_name": "Python 3",
   "language": "python",
   "name": "python3"
  },
  "language_info": {
   "codemirror_mode": {
    "name": "ipython",
    "version": 3
   },
   "file_extension": ".py",
   "mimetype": "text/x-python",
   "name": "python",
   "nbconvert_exporter": "python",
   "pygments_lexer": "ipython3",
   "version": "3.6.9"
  },
  "toc": {
   "base_numbering": 1,
   "nav_menu": {},
   "number_sections": true,
   "sideBar": true,
   "skip_h1_title": false,
   "title_cell": "Table of Contents",
   "title_sidebar": "Contents",
   "toc_cell": false,
   "toc_position": {
    "height": "calc(100% - 180px)",
    "left": "10px",
    "top": "150px",
    "width": "198.188px"
   },
   "toc_section_display": true,
   "toc_window_display": true
  },
  "varInspector": {
   "cols": {
    "lenName": 16,
    "lenType": 16,
    "lenVar": 40
   },
   "kernels_config": {
    "python": {
     "delete_cmd_postfix": "",
     "delete_cmd_prefix": "del ",
     "library": "var_list.py",
     "varRefreshCmd": "print(var_dic_list())"
    },
    "r": {
     "delete_cmd_postfix": ") ",
     "delete_cmd_prefix": "rm(",
     "library": "var_list.r",
     "varRefreshCmd": "cat(var_dic_list()) "
    }
   },
   "types_to_exclude": [
    "module",
    "function",
    "builtin_function_or_method",
    "instance",
    "_Feature"
   ],
   "window_display": false
  }
 },
 "nbformat": 4,
 "nbformat_minor": 4
}
