{
 "cells": [
  {
   "cell_type": "markdown",
   "metadata": {},
   "source": [
    "# Read results processed by MintPy"
   ]
  },
  {
   "cell_type": "markdown",
   "metadata": {},
   "source": [
    "**Copyright (c) 2020, Lei Yuan**"
   ]
  },
  {
   "cell_type": "markdown",
   "metadata": {},
   "source": [
    "## all functions"
   ]
  },
  {
   "cell_type": "code",
   "execution_count": null,
   "metadata": {
    "ExecuteTime": {
     "end_time": "2021-03-04T05:25:12.934068Z",
     "start_time": "2021-03-04T05:25:12.827543Z"
    }
   },
   "outputs": [],
   "source": [
    "import os\n",
    "import h5py\n",
    "import numpy as np\n",
    "import matplotlib.pyplot as plt\n",
    "from xml.dom.minidom import parse\n",
    "import zipfile\n",
    "import datetime\n",
    "from osgeo import gdal, osr\n",
    "%matplotlib inline\n",
    "\n",
    "\n",
    "def read_h5(fname, label):\n",
    "    with h5py.File(fname, 'r') as f:\n",
    "        atr = dict(f.attrs)\n",
    "        data = np.asarray(f[(label)])\n",
    "    return data, atr\n",
    "\n",
    "\n",
    "def read_vel(vel_file, mask_file=None, ds_factor=1, out_vel_file=None):\n",
    "    vel, atr = read_h5(vel_file, 'velocity')\n",
    "\n",
    "    lon = float(atr['X_FIRST'])\n",
    "    lat = float(atr['Y_FIRST'])\n",
    "\n",
    "    lon_step = float(atr['X_STEP'])\n",
    "    lat_step = float(atr['Y_STEP'])\n",
    "\n",
    "    lon_tmp = (np.linspace(lon, lon + lon_step * vel.shape[1], vel.shape[1]))\n",
    "    lat_tmp = (np.linspace(lat, lat + lat_step * vel.shape[0], vel.shape[0]))\n",
    "    lons, lats = np.meshgrid(lon_tmp, lat_tmp)\n",
    "\n",
    "    vel = vel[::ds_factor, ::ds_factor]\n",
    "    lons = lons[::ds_factor, ::ds_factor]\n",
    "    lats = lats[::ds_factor, ::ds_factor]\n",
    "\n",
    "    if mask_file:\n",
    "        mask, _ = read_h5(mask_file, 'mask')\n",
    "        mask = mask[::ds_factor, ::ds_factor]\n",
    "\n",
    "        lons = lons[mask].reshape((-1, 1))\n",
    "        lats = lats[mask].reshape((-1, 1))\n",
    "        vel = vel[mask].reshape((-1, 1))\n",
    "    else:\n",
    "        lons = lons.reshape((-1, 1))\n",
    "        lats = lats.reshape((-1, 1))\n",
    "        vel = vel.reshape((-1, 1))\n",
    "\n",
    "    num = np.arange(vel.shape[0]).reshape((-1, 1))\n",
    "\n",
    "    vel *= 1000\n",
    "\n",
    "    print('max velocity : ', np.max(vel))\n",
    "    print('min velocity : ', np.min(vel))\n",
    "    print('number of points : ', vel.shape[0])\n",
    "\n",
    "    out_data = np.hstack((num, lons, lats, vel))\n",
    "\n",
    "    if out_vel_file:\n",
    "        print('writing data to {}'.format(out_vel_file))\n",
    "        np.savetxt(out_vel_file, out_data, fmt='%4f')\n",
    "        print('done.')\n",
    "\n",
    "\n",
    "def read_vel_ts(ts_file, vel_file, mask_file, ds_factor=1, out_vel_file=None, out_ts_file=None):\n",
    "    mask, _ = read_h5(mask_file, 'mask')\n",
    "    mask = np.asarray(mask)\n",
    "\n",
    "    vel, _ = read_h5(vel_file, 'velocity')\n",
    "    vel = np.asarray(vel) * 1000\n",
    "\n",
    "    date, _ = read_h5(ts_file, 'date')\n",
    "    date = date.astype(np.int64)\n",
    "    ts, atr = read_h5(ts_file, 'timeseries')\n",
    "    ts = np.asarray(ts)\n",
    "    ts = ts.reshape((date.shape[0], vel.shape[0], vel.shape[1])) * 1000\n",
    "    ts = ts[:, ::ds_factor, ::ds_factor]\n",
    "    ts = ts.reshape((date.shape[0], -1, 1))\n",
    "\n",
    "    lon = float(atr['X_FIRST'])\n",
    "    lon_step = float(atr['X_STEP'])\n",
    "\n",
    "    lat = float(atr['Y_FIRST'])\n",
    "    lat_step = float(atr['Y_STEP'])\n",
    "\n",
    "    lon_tmp = (np.linspace(lon, lon + lon_step * vel.shape[1], vel.shape[1]))\n",
    "    lat_tmp = (np.linspace(lat, lat + lat_step * vel.shape[0], vel.shape[0]))\n",
    "\n",
    "    lons, lats = np.meshgrid(lon_tmp, lat_tmp)\n",
    "\n",
    "    lons = lons[::ds_factor, ::ds_factor]\n",
    "    lats = lats[::ds_factor, ::ds_factor]\n",
    "    mask = mask[::ds_factor, ::ds_factor]\n",
    "    vel = vel[::ds_factor, ::ds_factor]\n",
    "\n",
    "    lons = lons.reshape((-1, 1))\n",
    "    lats = lats.reshape((-1, 1))\n",
    "    vels = vel.reshape((-1, 1))\n",
    "    mask = mask.reshape((-1, 1))\n",
    "\n",
    "    lons = lons[mask].reshape((-1, 1))\n",
    "    lats = lats[mask].reshape((-1, 1))\n",
    "    vels = vels[mask].reshape((-1, 1))\n",
    "    num = np.arange(lons.shape[0]).reshape((-1, 1))\n",
    "\n",
    "    print('number of points : ', lons.shape[0])\n",
    "    print('max velocity : ', np.max(vels))\n",
    "    print('min velocity : ', np.min(vels))\n",
    "    out_vel = np.hstack((num, lons, lats, vels))\n",
    "\n",
    "    out_ts1 = out_vel\n",
    "    for i in range(ts.shape[0]):\n",
    "        data = ts[i]\n",
    "        out_ts1 = np.hstack((out_ts1, data[mask].reshape((-1, 1))))\n",
    "\n",
    "    tmp = out_ts1[:, 4:]\n",
    "    tmp = tmp - tmp[:, 0].reshape((-1, 1))\n",
    "    tmp = np.hstack((out_vel, tmp))\n",
    "\n",
    "    out_ts1 = tmp\n",
    "    print('max cumulative displacement: ', np.max(out_ts1[:, -1]))\n",
    "    print('min cumulative displacement: ', np.min(out_ts1[:, -1]))\n",
    "\n",
    "    first_line = np.asarray([[-1, -1, -1, -1]])\n",
    "    first_line = np.hstack((first_line, date.reshape((1, -1))))\n",
    "    out_ts = np.vstack((first_line, out_ts1))\n",
    "    out_vel = out_ts1[0:, 0:4]\n",
    "\n",
    "    if out_ts_file:\n",
    "        print('writing data to {}'.format(out_ts_file))\n",
    "        np.savetxt(out_ts_file, out_ts, fmt='%4f')\n",
    "        print('done.')\n",
    "\n",
    "    if out_vel_file:\n",
    "        print('writing data to {}'.format(out_vel_file))\n",
    "        np.savetxt(out_vel_file, out_vel, fmt='%4f')\n",
    "        print('done.')\n",
    "\n",
    "    return out_ts, date\n",
    "\n",
    "\n",
    "def vel2geotiff(vel_file, out_file, mask_file=None):\n",
    "    vel, atr = read_h5(vel_file, 'velocity')\n",
    "    vel *= 1000\n",
    "\n",
    "    min_lon = float(atr['X_FIRST'])\n",
    "    max_lat = float(atr['Y_FIRST'])\n",
    "\n",
    "    lon_step = float(atr['X_STEP'])\n",
    "    lat_step = float(atr['Y_STEP'])\n",
    "\n",
    "    width, nlines = vel.shape[1], vel.shape[0]\n",
    "\n",
    "    if mask_file:\n",
    "        mask, _ = read_h5(mask_file, 'mask')\n",
    "        vel[mask == False] = np.nan\n",
    "\n",
    "    driver = gdal.GetDriverByName('GTiff')\n",
    "    dataset = driver.Create(out_file, width, nlines, 1, gdal.GDT_Float32)\n",
    "\n",
    "    dataset.SetGeoTransform([min_lon, lon_step, 0, max_lat, 0, lat_step])\n",
    "\n",
    "    sr = osr.SpatialReference()\n",
    "    sr.SetWellKnownGeogCS('WGS84')\n",
    "\n",
    "    dataset.SetProjection(sr.ExportToWkt())\n",
    "    dataset.GetRasterBand(1).WriteArray(vel)\n",
    "    print('Writing data to {}.'.format(out_file))\n",
    "    dataset.FlushCache()\n",
    "    dataset = None\n",
    "    print('done.')"
   ]
  },
  {
   "cell_type": "markdown",
   "metadata": {},
   "source": [
    "## read velocity"
   ]
  },
  {
   "cell_type": "code",
   "execution_count": null,
   "metadata": {
    "ExecuteTime": {
     "end_time": "2020-09-06T12:39:15.036359Z",
     "start_time": "2020-09-06T12:39:14.996862Z"
    }
   },
   "outputs": [],
   "source": [
    "os.chdir('/ly/MintPy-Process/geo')\n",
    "\n",
    "vel_file = 'geo_velocity.h5'\n",
    "mask_file = 'geo_maskTempCoh.h5'\n",
    "\n",
    "read_vel(vel_file, mask_file=mask_file, ds_factor=1, out_vel_file='vel.txt')"
   ]
  },
  {
   "cell_type": "code",
   "execution_count": null,
   "metadata": {},
   "outputs": [],
   "source": [
    "!clip_vel_ts.py vel.txt v cut.kmz"
   ]
  },
  {
   "cell_type": "code",
   "execution_count": null,
   "metadata": {},
   "outputs": [],
   "source": [
    "!make_kmz_vel.py vel_clip.txt vel_clip.kmz -v -100 100 -c jet"
   ]
  },
  {
   "cell_type": "markdown",
   "metadata": {},
   "source": [
    "## velocity2geotiff"
   ]
  },
  {
   "cell_type": "code",
   "execution_count": null,
   "metadata": {},
   "outputs": [],
   "source": [
    "os.chdir('/ly/MintPy-Process/geo')\n",
    "vel2geotiff('geo_velocity.h5', 'geo_velocity_mask.tif', mask_file='geo_maskTempCoh.h5')"
   ]
  },
  {
   "cell_type": "markdown",
   "metadata": {},
   "source": [
    "## read time-series and velocity"
   ]
  },
  {
   "cell_type": "code",
   "execution_count": null,
   "metadata": {
    "ExecuteTime": {
     "end_time": "2021-03-04T05:25:30.870830Z",
     "start_time": "2021-03-04T05:25:19.234051Z"
    },
    "scrolled": true
   },
   "outputs": [],
   "source": [
    "os.chdir('/ly/MintPy-Process/geo')\n",
    "\n",
    "ts_file = 'geo_timeseries_tropHgt_ramp_demErr.h5'\n",
    "vel_file = 'geo_velocity.h5'\n",
    "mask_file = 'geo_maskTempCoh.h5'\n",
    "\n",
    "out_ts, date = read_vel_ts(ts_file, vel_file, mask_file, ds_factor=1, out_vel_file='vel.txt', out_ts_file='ts.txt')"
   ]
  },
  {
   "cell_type": "code",
   "execution_count": null,
   "metadata": {
    "ExecuteTime": {
     "end_time": "2021-03-04T05:26:43.925113Z",
     "start_time": "2021-03-04T05:26:10.417174Z"
    },
    "scrolled": true
   },
   "outputs": [],
   "source": [
    "!clip_vel_ts.py ts.txt t cut.kmz"
   ]
  },
  {
   "cell_type": "code",
   "execution_count": null,
   "metadata": {
    "ExecuteTime": {
     "end_time": "2020-08-18T07:50:36.925463Z",
     "start_time": "2020-08-18T07:50:28.121263Z"
    },
    "scrolled": true
   },
   "outputs": [],
   "source": [
    "!make_kmz_ts.py ts_clip.txt ts_clip.kmz -v -100 100 -c jet"
   ]
  },
  {
   "cell_type": "markdown",
   "metadata": {},
   "source": [
    "## plot time-series displacement"
   ]
  },
  {
   "cell_type": "code",
   "execution_count": null,
   "metadata": {
    "ExecuteTime": {
     "end_time": "2020-09-04T15:15:00.853132Z",
     "start_time": "2020-09-04T15:14:59.979286Z"
    },
    "scrolled": false
   },
   "outputs": [],
   "source": [
    "def plot_displacement(num_list, ts_data, date, aspect=0.2, figsize=(15, 7), y_lim=[-100, 100], fig_name=None):\n",
    "    fig, ax = plt.subplots(figsize=figsize)\n",
    "\n",
    "    ax.set_title('time series displacement', fontsize=40, fontweight='bold')\n",
    "    ax.set_aspect(aspect)\n",
    "    ax.minorticks_on()\n",
    "\n",
    "    ax.set_xlabel('date', fontsize=30, labelpad=10)\n",
    "    ax.xaxis.grid(True, which='major')\n",
    "    ax.xaxis.set_tick_params(rotation=30, labelsize=15)\n",
    "    ax.set_xmargin(0.02)\n",
    "\n",
    "    ax.set_ylabel('displacrment (mm)', fontsize=30, labelpad=10)\n",
    "    ax.set_ylim(y_lim[0], y_lim[1])\n",
    "    ax.yaxis.grid(True, which='major')\n",
    "    ax.yaxis.set_tick_params(rotation=0, labelsize=15)\n",
    "\n",
    "    date_str = [str(d) for d in date]\n",
    "\n",
    "    date = [datetime.datetime.strptime(d, '%Y%m%d') for d in date_str]\n",
    "\n",
    "    for num in num_list:\n",
    "        disp = ts_data[num + 1, 4:]\n",
    "        ax.plot(date, disp, label=str(num), marker='o', linewidth=0, markersize=10)\n",
    "    ax.set_xticks(date[::4])\n",
    "    ax.set_xticklabels(date_str[::4])\n",
    "    ax.set_yticks(list(range(y_lim[0], y_lim[1] + 10, 10)))\n",
    "    ax.legend(loc='best', fontsize=20, ncol=2)\n",
    "    fig.show()\n",
    "\n",
    "    if not fig_name is None:\n",
    "        fig.savefig(fig_name, dpi=200, bbox_inches='tight', facecolor='white')\n",
    "\n",
    "\n",
    "num_list = [1000]\n",
    "plot_displacement(num_list, out_ts, date, aspect=0.4, figsize=(30, 15), y_lim=[-100, 50], fig_name=None)\n"
   ]
  },
  {
   "cell_type": "code",
   "execution_count": null,
   "metadata": {},
   "outputs": [],
   "source": []
  }
 ],
 "metadata": {
  "kernelspec": {
   "display_name": "Python 3",
   "language": "python",
   "name": "python3"
  },
  "language_info": {
   "codemirror_mode": {
    "name": "ipython",
    "version": 3
   },
   "file_extension": ".py",
   "mimetype": "text/x-python",
   "name": "python",
   "nbconvert_exporter": "python",
   "pygments_lexer": "ipython3",
   "version": "3.8.10"
  },
  "toc": {
   "base_numbering": 1,
   "nav_menu": {},
   "number_sections": true,
   "sideBar": true,
   "skip_h1_title": false,
   "title_cell": "Table of Contents",
   "title_sidebar": "Contents",
   "toc_cell": false,
   "toc_position": {
    "height": "calc(100% - 180px)",
    "left": "10px",
    "top": "150px",
    "width": "373.797px"
   },
   "toc_section_display": true,
   "toc_window_display": true
  },
  "varInspector": {
   "cols": {
    "lenName": 16,
    "lenType": 16,
    "lenVar": 40
   },
   "kernels_config": {
    "python": {
     "delete_cmd_postfix": "",
     "delete_cmd_prefix": "del ",
     "library": "var_list.py",
     "varRefreshCmd": "print(var_dic_list())"
    },
    "r": {
     "delete_cmd_postfix": ") ",
     "delete_cmd_prefix": "rm(",
     "library": "var_list.r",
     "varRefreshCmd": "cat(var_dic_list()) "
    }
   },
   "types_to_exclude": [
    "module",
    "function",
    "builtin_function_or_method",
    "instance",
    "_Feature"
   ],
   "window_display": false
  }
 },
 "nbformat": 4,
 "nbformat_minor": 2
}
