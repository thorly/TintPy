{
 "cells": [
  {
   "cell_type": "markdown",
   "metadata": {},
   "source": [
    "# Read results processed by MintPy"
   ]
  },
  {
   "cell_type": "markdown",
   "metadata": {},
   "source": [
    "**Copyright (c) 2021, Lei Yuan**"
   ]
  },
  {
   "cell_type": "markdown",
   "metadata": {},
   "source": [
    "## all functions"
   ]
  },
  {
   "cell_type": "code",
   "execution_count": 1,
   "metadata": {
    "ExecuteTime": {
     "end_time": "2021-03-04T05:25:12.934068Z",
     "start_time": "2021-03-04T05:25:12.827543Z"
    }
   },
   "outputs": [],
   "source": [
    "import os\n",
    "import h5py\n",
    "import numpy as np\n",
    "from osgeo import gdal, osr\n",
    "from scipy.io import netcdf\n",
    "\n",
    "\n",
    "def read_h5(fname, label):\n",
    "    with h5py.File(fname, 'r') as f:\n",
    "        atr = dict(f.attrs)\n",
    "        data = np.asarray(f[(label)])\n",
    "    return data, atr\n",
    "\n",
    "\n",
    "def get_lon_lat(atr):\n",
    "    X_FIRST = float(atr['X_FIRST'])\n",
    "    Y_FIRST = float(atr['Y_FIRST'])\n",
    "    X_STEP = float(atr['X_STEP'])\n",
    "    Y_STEP = float(atr['Y_STEP'])\n",
    "    W = int(atr['WIDTH'])\n",
    "    L = int(atr['LENGTH'])\n",
    "    Y_END = Y_FIRST + L * Y_STEP\n",
    "    X_END = X_FIRST + W * X_STEP\n",
    "\n",
    "    X = np.linspace(X_FIRST, X_END, W)\n",
    "    Y = np.linspace(Y_FIRST, Y_END, L)\n",
    "\n",
    "    return Y, X\n",
    "\n",
    "\n",
    "def get_dates(ts_file):\n",
    "    dates, _ = read_h5(ts_file, 'date')\n",
    "    dates = [int(d) for d in dates]\n",
    "\n",
    "    return dates\n",
    "\n",
    "\n",
    "def read_vel(vel_file, mask_file=None, ds_factor=1, out_vel_file=None):\n",
    "    vel, atr = read_h5(vel_file, 'velocity')\n",
    "\n",
    "    lat, lon = get_lon_lat(atr)\n",
    "    lons, lats = np.meshgrid(lon, lat)\n",
    "\n",
    "    vel = vel[::ds_factor, ::ds_factor]\n",
    "    lons = lons[::ds_factor, ::ds_factor]\n",
    "    lats = lats[::ds_factor, ::ds_factor]\n",
    "\n",
    "    if mask_file:\n",
    "        mask, _ = read_h5(mask_file, 'mask')\n",
    "        mask = mask[::ds_factor, ::ds_factor]\n",
    "\n",
    "        lons = lons[mask]\n",
    "        lats = lats[mask]\n",
    "        vel = vel[mask]\n",
    "\n",
    "    lons = lons.reshape((-1, 1))\n",
    "    lats = lats.reshape((-1, 1))\n",
    "    vel = vel.reshape((-1, 1))\n",
    "\n",
    "    num = np.arange(vel.shape[0]).reshape((-1, 1))\n",
    "\n",
    "    vel *= 1000\n",
    "\n",
    "    print('max velocity : ', np.max(vel))\n",
    "    print('min velocity : ', np.min(vel))\n",
    "    print('number of points : ', vel.shape[0])\n",
    "\n",
    "    out_vel = np.hstack((num, lons, lats, vel))\n",
    "\n",
    "    if out_vel_file:\n",
    "        print('Writing data to {}'.format(out_vel_file))\n",
    "        np.savetxt(out_vel_file, out_vel, fmt='%4f')\n",
    "        print('done.')\n",
    "        \n",
    "    return out_vel\n",
    "\n",
    "\n",
    "def read_vel_ts(ts_file, vel_file, mask_file=None, ds_factor=1, out_vel_file=None, out_ts_file=None):\n",
    "    dates = get_dates(ts_file)\n",
    "\n",
    "    ts, _ = read_h5(ts_file, 'timeseries')\n",
    "    ts *= 1000\n",
    "\n",
    "    out_vel = read_vel(vel_file, mask_file, ds_factor, out_vel_file)\n",
    "    \n",
    "    if mask_file:\n",
    "        mask, _ = read_h5(mask_file, 'mask')\n",
    "        mask = mask[::ds_factor, ::ds_factor]\n",
    "    \n",
    "    out_ts1 = out_vel\n",
    "    for i in range(len(dates)):\n",
    "        disp = ts[i]\n",
    "        if mask_file:\n",
    "            disp = disp[::ds_factor, ::ds_factor]\n",
    "            disp = disp[mask]\n",
    "        out_ts1 = np.hstack((out_ts1, disp.reshape((-1, 1))))\n",
    "\n",
    "    tmp = out_ts1[:, 4:]\n",
    "    tmp = tmp - tmp[:, 0].reshape((-1, 1))\n",
    "    tmp = np.hstack((out_vel, tmp))\n",
    "    out_ts1 = tmp\n",
    "\n",
    "    print('max cumulative displacement: ', np.max(out_ts1[:, -1]))\n",
    "    print('min cumulative displacement: ', np.min(out_ts1[:, -1]))\n",
    "\n",
    "    first_line = np.asarray([[-1, -1, -1, -1]])\n",
    "    dates = np.asarray(dates)\n",
    "    first_line = np.hstack((first_line, dates.reshape((1, -1))))\n",
    "\n",
    "    out_ts = np.vstack((first_line, out_ts1))\n",
    "\n",
    "    if out_ts_file:\n",
    "        print('Writing data to {}'.format(out_ts_file))\n",
    "        np.savetxt(out_ts_file, out_ts, fmt='%4f')\n",
    "        print('done.')\n",
    "\n",
    "\n",
    "def vel2geotiff(vel_file, out_file, mask_file=None):\n",
    "    vel, atr = read_h5(vel_file, 'velocity')\n",
    "    vel *= 1000\n",
    "\n",
    "    min_lon = float(atr['X_FIRST'])\n",
    "    max_lat = float(atr['Y_FIRST'])\n",
    "\n",
    "    lon_step = float(atr['X_STEP'])\n",
    "    lat_step = float(atr['Y_STEP'])\n",
    "\n",
    "    width, nlines = vel.shape[1], vel.shape[0]\n",
    "\n",
    "    if mask_file:\n",
    "        mask, _ = read_h5(mask_file, 'mask')\n",
    "        vel[mask == False] = np.nan\n",
    "\n",
    "    driver = gdal.GetDriverByName('GTiff')\n",
    "    dataset = driver.Create(out_file, width, nlines, 1, gdal.GDT_Float32)\n",
    "\n",
    "    dataset.SetGeoTransform([min_lon, lon_step, 0, max_lat, 0, lat_step])\n",
    "\n",
    "    sr = osr.SpatialReference()\n",
    "    sr.SetWellKnownGeogCS('WGS84')\n",
    "\n",
    "    dataset.SetProjection(sr.ExportToWkt())\n",
    "    dataset.GetRasterBand(1).WriteArray(vel)\n",
    "    print('Writing data to {}.'.format(out_file))\n",
    "    dataset.FlushCache()\n",
    "    dataset = None\n",
    "    print('done.')\n",
    "    \n",
    "    \n",
    "def write_gmt_simple(lons, lats, z, fname, title='default', name='z', scale=1.0, offset=0, units='meters'):\n",
    "    \"\"\"Writes a simple GMT grd file with one array.\n",
    "    This is based on the gdal2grd.py script found at:\n",
    "        http://http://www.vso.cape.com/~nhv/files/python/gdal/gdal2grd.py\n",
    "\n",
    "    Parameters: lons : 1D Array of lon values\n",
    "                lats : 1D Array of lat values\n",
    "                z : 2D slice to be saved\n",
    "                fname : Output file name\n",
    "    Kwargs:     title : Title for the grd file\n",
    "                name : Name of the field in the grd file\n",
    "                scale : Scale value in the grd file\n",
    "                offset : Offset value in the grd file\n",
    "    \"\"\"\n",
    "\n",
    "    fid = netcdf.netcdf_file(fname, 'w')\n",
    "\n",
    "    # Create a dimension variable\n",
    "    fid.createDimension('side', 2)\n",
    "    fid.createDimension('xysize', np.prod(z.shape))\n",
    "\n",
    "    # Range variables\n",
    "    fid.createVariable('x_range', 'd', ('side',))\n",
    "    fid.variables['x_range'].units = 'degrees'\n",
    "\n",
    "    fid.createVariable('y_range', 'd', ('side',))\n",
    "    fid.variables['y_range'].units = 'degrees'\n",
    "\n",
    "    fid.createVariable('z_range', 'd', ('side',))\n",
    "    fid.variables['z_range'].units = units\n",
    "\n",
    "    # Spacing\n",
    "    fid.createVariable('spacing', 'd', ('side',))\n",
    "    fid.createVariable('dimension', 'i4', ('side',))\n",
    "\n",
    "    fid.createVariable('z', 'f', ('xysize',))\n",
    "    fid.variables['z'].long_name = name\n",
    "    fid.variables['z'].scale_factor = scale\n",
    "    fid.variables['z'].add_offset = offset\n",
    "    fid.variables['z'].node_offset = 0\n",
    "\n",
    "    fid.title = title\n",
    "    fid.source = 'MintPy'\n",
    "\n",
    "    # Filling in the actual data\n",
    "    fid.variables['x_range'][0] = lons[0]\n",
    "    fid.variables['x_range'][1] = lons[-1]\n",
    "    fid.variables['spacing'][0] = lons[1]-lons[0]\n",
    "\n",
    "    fid.variables['y_range'][0] = lats[0]\n",
    "    fid.variables['y_range'][1] = lats[-1]\n",
    "    fid.variables['spacing'][1] = lats[1]-lats[0]\n",
    "\n",
    "    # Range\n",
    "    fid.variables['z_range'][0] = np.nanmin(z)\n",
    "    fid.variables['z_range'][1] = np.nanmax(z)\n",
    "\n",
    "    fid.variables['dimension'][:] = z.shape[::-1]\n",
    "    fid.variables['z'][:] = np.flipud(z).flatten()\n",
    "    fid.close()\n",
    "    \n",
    "\n",
    "def ts2grd(ts_file, out_dir, mask_file=None):\n",
    "    ts, atr = read_h5(ts_file, 'timeseries')\n",
    "\n",
    "    dates = get_dates(ts_file)\n",
    "    dates = [str(d) for d in dates]\n",
    "\n",
    "    lats, lons = get_lon_lat(atr)\n",
    "    \n",
    "    if mask_file:\n",
    "        mask, _ = read_h5(mask_file, 'mask')\n",
    "\n",
    "    if not os.path.isdir(out_dir):\n",
    "        os.mkdir(out_dir)\n",
    "    \n",
    "    for date in dates:\n",
    "        disp = ts[dates.index(date), :, :]\n",
    "        disp -= ts[0, :, :]\n",
    "        disp *= 1000\n",
    "\n",
    "        if mask_file:\n",
    "            disp[mask == False] = np.nan\n",
    "\n",
    "        fname_out = os.path.join(out_dir, date + '.grd')\n",
    "        print('Writing data to {}'.format(fname_out))\n",
    "        write_gmt_simple(lons, np.flipud(lats), np.flipud(disp), fname_out, title='default', name=atr['FILE_TYPE'], scale=1.0, offset=0, units='mm')\n",
    "\n",
    "\n",
    "def vel2grd(vel_file, out_file, mask_file=None):\n",
    "    vel, atr = read_h5(vel_file, 'velocity')\n",
    "    \n",
    "    vel *= 1000\n",
    "\n",
    "    lats, lons = get_lon_lat(atr)\n",
    "    \n",
    "    if mask_file:\n",
    "        mask, _ = read_h5(mask_file, 'mask')\n",
    "        vel[mask == False] = np.nan\n",
    "    \n",
    "    out_file = os.path.abspath(out_file)\n",
    "    if not out_file.endswith('.grd'):\n",
    "        out_file += '.grd'\n",
    "    \n",
    "    print('Writing data to {}'.format(out_file))\n",
    "    write_gmt_simple(lons, np.flipud(lats), np.flipud(vel), out_file, title='default', name=atr['FILE_TYPE'], scale=1.0, offset=0, units='mm/yr')\n",
    "    \n",
    "    \n",
    "def load_ts(ts_file):\n",
    "    content = np.loadtxt(ts_file, np.float64)\n",
    "\n",
    "    dates = np.asarray(content[0, 4:], np.int64)\n",
    "    ts = content[1:, :]\n",
    "\n",
    "    return ts, dates"
   ]
  },
  {
   "cell_type": "markdown",
   "metadata": {},
   "source": [
    "## read velocity"
   ]
  },
  {
   "cell_type": "code",
   "execution_count": null,
   "metadata": {
    "ExecuteTime": {
     "end_time": "2020-09-06T12:39:15.036359Z",
     "start_time": "2020-09-06T12:39:14.996862Z"
    }
   },
   "outputs": [],
   "source": [
    "os.chdir('/ly/MintPy-Process/geo')\n",
    "\n",
    "vel_file = 'geo_velocity.h5'\n",
    "mask_file = 'geo_maskTempCoh.h5'\n",
    "\n",
    "_ = read_vel(vel_file, mask_file=mask_file, ds_factor=1, out_vel_file='vel.txt')"
   ]
  },
  {
   "cell_type": "code",
   "execution_count": null,
   "metadata": {},
   "outputs": [],
   "source": [
    "!clip_vel_ts.py vel.txt v cut.kmz"
   ]
  },
  {
   "cell_type": "code",
   "execution_count": null,
   "metadata": {},
   "outputs": [],
   "source": [
    "!make_kmz_vel.py vel_clip.txt vel_clip.kmz -v -100 100 -c jet"
   ]
  },
  {
   "cell_type": "markdown",
   "metadata": {},
   "source": [
    "## velocity2geotiff"
   ]
  },
  {
   "cell_type": "code",
   "execution_count": null,
   "metadata": {},
   "outputs": [],
   "source": [
    "os.chdir('/ly/MintPy-Process/geo')\n",
    "\n",
    "vel_file = 'geo_velocity.h5'\n",
    "mask_file = 'geo_maskTempCoh.h5'\n",
    "\n",
    "vel2geotiff(vel_file, 'velocity.tif', mask_file=mask_file)"
   ]
  },
  {
   "cell_type": "markdown",
   "metadata": {},
   "source": [
    "## velocity2grd"
   ]
  },
  {
   "cell_type": "code",
   "execution_count": null,
   "metadata": {},
   "outputs": [],
   "source": [
    "os.chdir('/ly/MintPy-Process/geo')\n",
    "\n",
    "vel_file = 'geo_velocity.h5'\n",
    "mask_file = 'geo_maskTempCoh.h5'\n",
    "\n",
    "vel2grd(vel_file, 'velocity.grd', mask_file=mask_file)"
   ]
  },
  {
   "cell_type": "markdown",
   "metadata": {},
   "source": [
    "## read time-series and velocity"
   ]
  },
  {
   "cell_type": "code",
   "execution_count": null,
   "metadata": {
    "ExecuteTime": {
     "end_time": "2021-03-04T05:25:30.870830Z",
     "start_time": "2021-03-04T05:25:19.234051Z"
    },
    "scrolled": true
   },
   "outputs": [],
   "source": [
    "os.chdir('/ly/MintPy-Process/geo')\n",
    "\n",
    "ts_file = 'geo_timeseries_tropHgt_ramp_demErr.h5'\n",
    "vel_file = 'geo_velocity.h5'\n",
    "mask_file = 'geo_maskTempCoh.h5'\n",
    "\n",
    "read_vel_ts(ts_file, vel_file, mask_file=mask_file, ds_factor=1, out_vel_file='vel.txt', out_ts_file='ts.txt')"
   ]
  },
  {
   "cell_type": "code",
   "execution_count": null,
   "metadata": {
    "ExecuteTime": {
     "end_time": "2021-03-04T05:26:43.925113Z",
     "start_time": "2021-03-04T05:26:10.417174Z"
    },
    "scrolled": true
   },
   "outputs": [],
   "source": [
    "!clip_vel_ts.py ts.txt t cut.kmz"
   ]
  },
  {
   "cell_type": "code",
   "execution_count": null,
   "metadata": {
    "ExecuteTime": {
     "end_time": "2020-08-18T07:50:36.925463Z",
     "start_time": "2020-08-18T07:50:28.121263Z"
    },
    "scrolled": true
   },
   "outputs": [],
   "source": [
    "!make_kmz_ts.py ts_clip.txt ts_clip.kmz -v -100 100 -c jet"
   ]
  },
  {
   "cell_type": "markdown",
   "metadata": {},
   "source": [
    "## ts2grd"
   ]
  },
  {
   "cell_type": "code",
   "execution_count": null,
   "metadata": {},
   "outputs": [],
   "source": [
    "os.chdir('/ly/MintPy-Process/geo')\n",
    "\n",
    "ts_file = 'geo_timeseries_tropHgt_ramp_demErr.h5'\n",
    "\n",
    "mask_file = 'geo_maskTempCoh.h5'\n",
    "\n",
    "ts2grd(ts_file, './grd', mask_file=mask_file)"
   ]
  },
  {
   "cell_type": "markdown",
   "metadata": {},
   "source": [
    "## plot time-series displacement"
   ]
  },
  {
   "cell_type": "code",
   "execution_count": 2,
   "metadata": {
    "ExecuteTime": {
     "end_time": "2020-09-04T15:15:00.853132Z",
     "start_time": "2020-09-04T15:14:59.979286Z"
    },
    "scrolled": false
   },
   "outputs": [],
   "source": [
    "import matplotlib.pyplot as plt\n",
    "import datetime\n",
    "\n",
    "\n",
    "def plot_displacement(num_list, ts_data, date, aspect=0.2, figsize=(15, 7), y_lim=[-100, 100], fig_name=None):\n",
    "    fig, ax = plt.subplots(figsize=figsize)\n",
    "\n",
    "    ax.set_title('time series displacement', fontsize=40, fontweight='bold')\n",
    "    ax.set_aspect(aspect)\n",
    "    ax.minorticks_on()\n",
    "\n",
    "    ax.set_xlabel('date', fontsize=30, labelpad=10)\n",
    "    ax.xaxis.grid(True, which='major')\n",
    "    ax.xaxis.set_tick_params(rotation=30, labelsize=15)\n",
    "    ax.set_xmargin(0.02)\n",
    "\n",
    "    ax.set_ylabel('displacrment (mm)', fontsize=30, labelpad=10)\n",
    "    ax.set_ylim(y_lim[0], y_lim[1])\n",
    "    ax.yaxis.grid(True, which='major')\n",
    "    ax.yaxis.set_tick_params(rotation=0, labelsize=15)\n",
    "\n",
    "    date_str = [str(d) for d in date]\n",
    "\n",
    "    date = [datetime.datetime.strptime(d, '%Y%m%d') for d in date_str]\n",
    "\n",
    "    for num in num_list:\n",
    "        disp = ts_data[num + 1, 4:]\n",
    "        ax.plot(date, disp, label=str(num), marker='o', linewidth=0, markersize=10)\n",
    "\n",
    "    ax.set_xticks(date[::4])\n",
    "    ax.set_xticklabels(date_str[::4])\n",
    "    ax.set_yticks(list(range(y_lim[0], y_lim[1] + 20, 20)))\n",
    "    ax.legend(loc='best', fontsize=20, ncol=2)\n",
    "    fig.show()\n",
    "\n",
    "    if not fig_name is None:\n",
    "        fig.savefig(fig_name, dpi=200, bbox_inches='tight', facecolor='white')\n"
   ]
  },
  {
   "cell_type": "code",
   "execution_count": null,
   "metadata": {},
   "outputs": [],
   "source": [
    "ts, dates = load_ts('ts.txt')"
   ]
  },
  {
   "cell_type": "code",
   "execution_count": null,
   "metadata": {},
   "outputs": [],
   "source": [
    "num_list = [69445]\n",
    "\n",
    "plot_displacement(num_list, ts, dates, aspect=0.6, figsize=(30, 15), y_lim=[-200, 50], fig_name=None)"
   ]
  }
 ],
 "metadata": {
  "kernelspec": {
   "display_name": "Python 3",
   "language": "python",
   "name": "python3"
  },
  "language_info": {
   "codemirror_mode": {
    "name": "ipython",
    "version": 3
   },
   "file_extension": ".py",
   "mimetype": "text/x-python",
   "name": "python",
   "nbconvert_exporter": "python",
   "pygments_lexer": "ipython3",
   "version": "3.8.10"
  },
  "toc": {
   "base_numbering": 1,
   "nav_menu": {},
   "number_sections": true,
   "sideBar": true,
   "skip_h1_title": false,
   "title_cell": "Table of Contents",
   "title_sidebar": "Contents",
   "toc_cell": false,
   "toc_position": {
    "height": "calc(100% - 180px)",
    "left": "10px",
    "top": "150px",
    "width": "373.797px"
   },
   "toc_section_display": true,
   "toc_window_display": true
  },
  "varInspector": {
   "cols": {
    "lenName": 16,
    "lenType": 16,
    "lenVar": 40
   },
   "kernels_config": {
    "python": {
     "delete_cmd_postfix": "",
     "delete_cmd_prefix": "del ",
     "library": "var_list.py",
     "varRefreshCmd": "print(var_dic_list())"
    },
    "r": {
     "delete_cmd_postfix": ") ",
     "delete_cmd_prefix": "rm(",
     "library": "var_list.r",
     "varRefreshCmd": "cat(var_dic_list()) "
    }
   },
   "types_to_exclude": [
    "module",
    "function",
    "builtin_function_or_method",
    "instance",
    "_Feature"
   ],
   "window_display": false
  }
 },
 "nbformat": 4,
 "nbformat_minor": 2
}
