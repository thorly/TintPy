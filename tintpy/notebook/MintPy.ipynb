{
 "cells": [
  {
   "cell_type": "markdown",
   "metadata": {
    "ExecuteTime": {
     "end_time": "2020-03-26T10:37:00.996426Z",
     "start_time": "2020-03-26T10:37:00.994324Z"
    }
   },
   "source": [
    "# MintPy"
   ]
  },
  {
   "cell_type": "markdown",
   "metadata": {},
   "source": [
    "## configure file"
   ]
  },
  {
   "cell_type": "code",
   "execution_count": null,
   "metadata": {
    "ExecuteTime": {
     "end_time": "2020-08-10T10:03:01.020991Z",
     "start_time": "2020-08-10T10:03:01.010830Z"
    }
   },
   "outputs": [],
   "source": [
    "%matplotlib inline\n",
    "import os\n",
    "import numpy as np\n",
    "import matplotlib.pyplot as plt\n",
    "from mintpy.objects import ifgramStack\n",
    "from mintpy.utils import plot as pp, utils as ut\n",
    "from mintpy import view, plot_network\n",
    "\n",
    "\n",
    "mintpy_dir = ''\n",
    "\n",
    "prj_dir = os.path.join(mintpy_dir, 'P1')\n",
    "\n",
    "if mintpy_dir.endswith('/'):\n",
    "    mintpy_dir = mintpy_dir[:-1]\n",
    "\n",
    "if not os.path.isdir(prj_dir):\n",
    "    os.mkdir(prj_dir)\n",
    "\n",
    "\n",
    "# Alos_*.txt for ALOS, Sen_*.txt for Sentinel-1\n",
    "prj_file = 'Sen_prj.txt'\n",
    "\n",
    "os.chdir(prj_dir)"
   ]
  },
  {
   "cell_type": "code",
   "execution_count": null,
   "metadata": {
    "ExecuteTime": {
     "end_time": "2020-08-05T10:35:09.028834Z",
     "start_time": "2020-08-05T10:35:09.022458Z"
    },
    "tags": []
   },
   "outputs": [],
   "source": [
    "config = \"\"\"##-------------------------------- MintPy -----------------------------##\n",
    "########## 1. Load Data (--load to exit after this step)\n",
    "## load_data.py -H to check more details and example inputs.\n",
    "mintpy.load.processor      = gamma\n",
    "mintpy.load.unwFile        = {}/interferograms/*/diff_*rlks.unw\n",
    "mintpy.load.corFile        = {}/interferograms/*/filt_*rlks.cor\n",
    "mintpy.load.connCompFile   = None\n",
    "mintpy.load.intFile        = None\n",
    "\n",
    "mintpy.load.demFile        = {}/geometry/sim_*.rdc.dem\n",
    "mintpy.load.lookupYFile    = {}/geometry/sim_*.UTM_TO_RDC\n",
    "mintpy.load.lookupXFile    = {}/geometry/sim_*.UTM_TO_RDC\n",
    "mintpy.load.incAngleFile   = None\n",
    "mintpy.load.azAngleFile    = None\n",
    "mintpy.load.shadowMaskFile = None\n",
    "mintpy.load.waterMaskFile  = None\n",
    "##---------subset (optional):\n",
    "mintpy.subset.lalo         = auto    #[S:N,W:E / no], auto for no\n",
    "\n",
    "########## 2. modify_network\n",
    "mintpy.network.excludeIfgIndex = auto  #[1:5,25 / no], auto for no, list of ifg index (start from 0)\n",
    "mintpy.network.keepMinSpanTree = yes  #[yes / no], auto for yes, keep interferograms in Min Span Tree network\n",
    "\n",
    "########## 3. reference_point\n",
    "mintpy.reference.lalo          = auto   #[31.8,130.8 / auto]\n",
    "\n",
    "########## 4. correct_unwrap_error (optional)\n",
    "\n",
    "########## 5. invert_network\n",
    "mintpy.networkInversion.minTempCoh      = 0.5 #[0.0-1.0], auto for 0.7, min temporal coherence for mask\n",
    "\n",
    "########## 6. correct_troposphere (optional and recommended)\n",
    "mintpy.troposphericDelay.method         = height_correlation   #[pyaps / height_correlation / no], auto for pyaps\n",
    "\n",
    "########## 7. deramp (optional)\n",
    "mintpy.deramp                           = linear\n",
    "\n",
    "########## 8. correct_topography (optional and recommended)\n",
    "\n",
    "########## 9.1 residual_RMS (root mean squares for noise evaluation)\n",
    "\n",
    "########## 9.2 reference_date\n",
    "\n",
    "########## 10. velocity\n",
    "\n",
    "########## 11.1 geocode (post-processing)\n",
    "\n",
    "########## 11.2 google_earth (post-processing)\n",
    "\n",
    "########## 11.3 hdfeos5 (post-processing)\n",
    "\n",
    "########## 11.4 plot\n",
    "\"\"\".format(mintpy_dir, mintpy_dir, mintpy_dir, mintpy_dir, mintpy_dir)\n",
    "\n",
    "with open(prj_file, 'w+') as f:\n",
    "    f.write(config)"
   ]
  },
  {
   "cell_type": "markdown",
   "metadata": {},
   "source": [
    "## load_data"
   ]
  },
  {
   "cell_type": "code",
   "execution_count": null,
   "metadata": {
    "ExecuteTime": {
     "end_time": "2020-08-06T02:52:21.849515Z",
     "start_time": "2020-08-06T02:45:39.830054Z"
    },
    "scrolled": true,
    "tags": []
   },
   "outputs": [],
   "source": [
    "!smallbaselineApp.py $prj_file --dostep load_data"
   ]
  },
  {
   "cell_type": "markdown",
   "metadata": {},
   "source": [
    "## modify_network"
   ]
  },
  {
   "cell_type": "code",
   "execution_count": null,
   "metadata": {
    "ExecuteTime": {
     "end_time": "2020-08-06T02:54:56.473265Z",
     "start_time": "2020-08-06T02:54:30.777322Z"
    },
    "scrolled": true
   },
   "outputs": [],
   "source": [
    "!smallbaselineApp.py $prj_file --dostep modify_network"
   ]
  },
  {
   "cell_type": "code",
   "execution_count": null,
   "metadata": {
    "ExecuteTime": {
     "end_time": "2020-08-06T02:55:04.347596Z",
     "start_time": "2020-08-06T02:54:56.475023Z"
    },
    "scrolled": true
   },
   "outputs": [],
   "source": [
    "plot_network.main(['./inputs/ifgramStack.h5'])"
   ]
  },
  {
   "cell_type": "markdown",
   "metadata": {},
   "source": [
    "## reference_point"
   ]
  },
  {
   "cell_type": "code",
   "execution_count": null,
   "metadata": {
    "ExecuteTime": {
     "end_time": "2020-08-06T02:55:10.892530Z",
     "start_time": "2020-08-06T02:55:04.349696Z"
    },
    "scrolled": true
   },
   "outputs": [],
   "source": [
    "!smallbaselineApp.py $prj_file --dostep reference_point"
   ]
  },
  {
   "cell_type": "code",
   "execution_count": null,
   "metadata": {
    "ExecuteTime": {
     "end_time": "2020-08-06T02:55:11.369548Z",
     "start_time": "2020-08-06T02:55:10.895836Z"
    },
    "scrolled": true
   },
   "outputs": [],
   "source": [
    "!info.py ./inputs/ifgramStack.h5 | egrep 'REF_'"
   ]
  },
  {
   "cell_type": "markdown",
   "metadata": {},
   "source": [
    "## correct_unwrap_error"
   ]
  },
  {
   "cell_type": "code",
   "execution_count": null,
   "metadata": {
    "ExecuteTime": {
     "end_time": "2020-08-06T02:55:12.914747Z",
     "start_time": "2020-08-06T02:55:11.374584Z"
    },
    "scrolled": true
   },
   "outputs": [],
   "source": [
    "!smallbaselineApp.py $prj_file --dostep correct_unwrap_error"
   ]
  },
  {
   "cell_type": "markdown",
   "metadata": {},
   "source": [
    "## invert_network"
   ]
  },
  {
   "cell_type": "code",
   "execution_count": null,
   "metadata": {
    "ExecuteTime": {
     "end_time": "2020-08-10T09:52:19.867115Z",
     "start_time": "2020-08-10T09:52:17.426431Z"
    },
    "scrolled": true
   },
   "outputs": [],
   "source": [
    "!smallbaselineApp.py $prj_file --dostep invert_network"
   ]
  },
  {
   "cell_type": "code",
   "execution_count": null,
   "metadata": {
    "ExecuteTime": {
     "end_time": "2020-08-10T09:52:30.008534Z",
     "start_time": "2020-08-10T09:52:19.870684Z"
    },
    "scrolled": true
   },
   "outputs": [],
   "source": [
    "view.main('timeseries.h5 --wrap --wrap-range -5 5 -u cm --notitle --notick --noaxis'.split())"
   ]
  },
  {
   "cell_type": "code",
   "execution_count": null,
   "metadata": {
    "ExecuteTime": {
     "end_time": "2020-08-10T10:03:05.492868Z",
     "start_time": "2020-08-10T10:03:04.580547Z"
    },
    "scrolled": true
   },
   "outputs": [],
   "source": [
    "view.main('temporalCoherence.h5 --notick --noaxis --noverbose'.split())\n",
    "view.main('maskTempCoh.h5 --notick --noaxis --noverbose'.split())"
   ]
  },
  {
   "cell_type": "markdown",
   "metadata": {},
   "source": [
    "## correct_troposphere"
   ]
  },
  {
   "cell_type": "code",
   "execution_count": null,
   "metadata": {
    "ExecuteTime": {
     "end_time": "2020-08-10T09:52:33.167450Z",
     "start_time": "2020-08-10T09:52:31.023160Z"
    },
    "scrolled": true
   },
   "outputs": [],
   "source": [
    "!smallbaselineApp.py $prj_file --dostep correct_troposphere"
   ]
  },
  {
   "cell_type": "code",
   "execution_count": null,
   "metadata": {
    "ExecuteTime": {
     "end_time": "2020-08-10T09:52:43.304770Z",
     "start_time": "2020-08-10T09:52:33.172244Z"
    },
    "scrolled": true
   },
   "outputs": [],
   "source": [
    "view.main('timeseries_tropHgt.h5 --wrap --wrap-range -5 5 -u cm --notitle --notick --noaxis'.split())"
   ]
  },
  {
   "cell_type": "markdown",
   "metadata": {},
   "source": [
    "## deramp"
   ]
  },
  {
   "cell_type": "code",
   "execution_count": null,
   "metadata": {
    "ExecuteTime": {
     "end_time": "2020-08-10T09:52:52.730677Z",
     "start_time": "2020-08-10T09:52:43.306802Z"
    },
    "scrolled": true
   },
   "outputs": [],
   "source": [
    "!smallbaselineApp.py $prj_file --dostep deramp"
   ]
  },
  {
   "cell_type": "markdown",
   "metadata": {},
   "source": [
    "## correct_topography"
   ]
  },
  {
   "cell_type": "code",
   "execution_count": null,
   "metadata": {
    "ExecuteTime": {
     "end_time": "2020-08-10T09:55:53.454707Z",
     "start_time": "2020-08-10T09:52:52.733850Z"
    },
    "scrolled": true
   },
   "outputs": [],
   "source": [
    "!smallbaselineApp.py $prj_file --dostep correct_topography"
   ]
  },
  {
   "cell_type": "code",
   "execution_count": null,
   "metadata": {
    "ExecuteTime": {
     "end_time": "2020-08-10T09:56:02.935911Z",
     "start_time": "2020-08-10T09:55:53.459895Z"
    },
    "scrolled": true
   },
   "outputs": [],
   "source": [
    "view.main('timeseries_tropHgt_ramp_demErr.h5 --notitle --wrap --wrap-range -5 5 --notick --noaxis'.split())"
   ]
  },
  {
   "cell_type": "markdown",
   "metadata": {},
   "source": [
    "## residual_RMS"
   ]
  },
  {
   "cell_type": "code",
   "execution_count": null,
   "metadata": {
    "ExecuteTime": {
     "end_time": "2020-08-10T09:56:15.305561Z",
     "start_time": "2020-08-10T09:56:02.939355Z"
    },
    "scrolled": true
   },
   "outputs": [],
   "source": [
    "!smallbaselineApp.py $prj_file --dostep residual_RMS"
   ]
  },
  {
   "cell_type": "code",
   "execution_count": null,
   "metadata": {
    "ExecuteTime": {
     "end_time": "2020-08-10T09:56:15.439293Z",
     "start_time": "2020-08-10T09:56:15.309881Z"
    }
   },
   "outputs": [],
   "source": [
    "!head rms_timeseriesResidual_ramp.txt"
   ]
  },
  {
   "cell_type": "markdown",
   "metadata": {},
   "source": [
    "## reference_date"
   ]
  },
  {
   "cell_type": "code",
   "execution_count": null,
   "metadata": {
    "ExecuteTime": {
     "end_time": "2020-08-10T09:56:15.573925Z",
     "start_time": "2020-08-10T09:56:15.442265Z"
    }
   },
   "outputs": [],
   "source": [
    "!cat reference_date.txt    #auto selected optimal reference date."
   ]
  },
  {
   "cell_type": "code",
   "execution_count": null,
   "metadata": {
    "ExecuteTime": {
     "end_time": "2020-08-10T09:56:16.119871Z",
     "start_time": "2020-08-10T09:56:15.577534Z"
    },
    "scrolled": true
   },
   "outputs": [],
   "source": [
    "## plot the RMS value\n",
    "from mintpy.timeseries_rms import plot_rms_bar\n",
    "txtContent = np.loadtxt('./rms_timeseriesResidual_ramp.txt', dtype=bytes).astype(str)\n",
    "rms_list = [float(i) for i in txtContent[:, 1]]\n",
    "date_list = [i for i in txtContent[:, 0]]\n",
    "fig, ax = plt.subplots(figsize=[10, 4])\n",
    "ax = plot_rms_bar(ax, date_list, rms_list)\n",
    "plt.show()"
   ]
  },
  {
   "cell_type": "code",
   "execution_count": null,
   "metadata": {
    "ExecuteTime": {
     "end_time": "2020-08-10T09:56:21.840662Z",
     "start_time": "2020-08-10T09:56:16.122074Z"
    },
    "scrolled": true
   },
   "outputs": [],
   "source": [
    "!smallbaselineApp.py $prj_file --dostep reference_date"
   ]
  },
  {
   "cell_type": "markdown",
   "metadata": {},
   "source": [
    "## velocity"
   ]
  },
  {
   "cell_type": "code",
   "execution_count": null,
   "metadata": {
    "ExecuteTime": {
     "end_time": "2020-08-10T09:56:25.752327Z",
     "start_time": "2020-08-10T09:56:21.843857Z"
    },
    "scrolled": true
   },
   "outputs": [],
   "source": [
    "!smallbaselineApp.py $prj_file --dostep velocity"
   ]
  },
  {
   "cell_type": "code",
   "execution_count": null,
   "metadata": {
    "ExecuteTime": {
     "end_time": "2020-08-10T09:56:26.222523Z",
     "start_time": "2020-08-10T09:56:25.755981Z"
    },
    "scrolled": true
   },
   "outputs": [],
   "source": [
    "!info.py velocity.h5 --compact"
   ]
  },
  {
   "cell_type": "code",
   "execution_count": null,
   "metadata": {
    "ExecuteTime": {
     "end_time": "2020-08-10T09:56:26.916252Z",
     "start_time": "2020-08-10T09:56:26.226965Z"
    },
    "scrolled": false
   },
   "outputs": [],
   "source": [
    "view.main('velocity.h5 --notick --noaxis --noverbose'.split())"
   ]
  },
  {
   "cell_type": "markdown",
   "metadata": {},
   "source": [
    "## geocode"
   ]
  },
  {
   "cell_type": "code",
   "execution_count": null,
   "metadata": {
    "ExecuteTime": {
     "end_time": "2020-08-10T09:56:43.897137Z",
     "start_time": "2020-08-10T09:56:26.917829Z"
    },
    "scrolled": true
   },
   "outputs": [],
   "source": [
    "!smallbaselineApp.py $prj_file --dostep geocode"
   ]
  },
  {
   "cell_type": "code",
   "execution_count": null,
   "metadata": {
    "ExecuteTime": {
     "end_time": "2020-08-10T09:56:46.148464Z",
     "start_time": "2020-08-10T09:56:43.900856Z"
    },
    "scrolled": true
   },
   "outputs": [],
   "source": [
    "view.main('./geo/geo_velocity.h5 velocity --dem ./geo/geo_geometryRadar.h5 --figsize 12 12 --notick --noaxis'.split())"
   ]
  },
  {
   "cell_type": "markdown",
   "metadata": {
    "ExecuteTime": {
     "end_time": "2020-03-27T03:29:41.434092Z",
     "start_time": "2020-03-27T03:29:41.430786Z"
    }
   },
   "source": [
    "## google_earth"
   ]
  },
  {
   "cell_type": "code",
   "execution_count": null,
   "metadata": {
    "ExecuteTime": {
     "end_time": "2020-08-10T09:56:46.152341Z",
     "start_time": "2020-08-10T09:56:46.150028Z"
    },
    "scrolled": true
   },
   "outputs": [],
   "source": [
    "!smallbaselineApp.py $prj_file --dostep google_earth"
   ]
  },
  {
   "cell_type": "markdown",
   "metadata": {},
   "source": [
    "## save kmz"
   ]
  },
  {
   "cell_type": "code",
   "execution_count": null,
   "metadata": {
    "ExecuteTime": {
     "end_time": "2020-08-10T09:56:58.113635Z",
     "start_time": "2020-08-10T09:56:46.167876Z"
    }
   },
   "outputs": [],
   "source": [
    "!save_kmz.py ./geo/geo_velocity.h5 -u mm -v -60 60 -c jet -o ./geo/geo_velocity_mm"
   ]
  },
  {
   "cell_type": "markdown",
   "metadata": {},
   "source": [
    "## plot_smallbaselineApp"
   ]
  },
  {
   "cell_type": "code",
   "execution_count": null,
   "metadata": {
    "ExecuteTime": {
     "end_time": "2020-08-10T09:56:58.182949Z",
     "start_time": "2020-08-10T09:56:58.178038Z"
    },
    "code_folding": []
   },
   "outputs": [],
   "source": [
    "!${MINTPY_HOME}/mintpy/sh/plot_smallbaselineApp.sh"
   ]
  }
 ],
 "metadata": {
  "kernelspec": {
   "display_name": "Python 3",
   "language": "python",
   "name": "python3"
  },
  "language_info": {
   "codemirror_mode": {
    "name": "ipython",
    "version": 3
   },
   "file_extension": ".py",
   "mimetype": "text/x-python",
   "name": "python",
   "nbconvert_exporter": "python",
   "pygments_lexer": "ipython3",
   "version": "3.8.2"
  },
  "notify_time": "0",
  "toc": {
   "base_numbering": 1,
   "nav_menu": {},
   "number_sections": true,
   "sideBar": true,
   "skip_h1_title": false,
   "title_cell": "Table of Contents",
   "title_sidebar": "Contents",
   "toc_cell": false,
   "toc_position": {
    "height": "calc(100% - 180px)",
    "left": "10px",
    "top": "150px",
    "width": "248.667px"
   },
   "toc_section_display": true,
   "toc_window_display": true
  },
  "varInspector": {
   "cols": {
    "lenName": 16,
    "lenType": 16,
    "lenVar": 40
   },
   "kernels_config": {
    "python": {
     "delete_cmd_postfix": "",
     "delete_cmd_prefix": "del ",
     "library": "var_list.py",
     "varRefreshCmd": "print(var_dic_list())"
    },
    "r": {
     "delete_cmd_postfix": ") ",
     "delete_cmd_prefix": "rm(",
     "library": "var_list.r",
     "varRefreshCmd": "cat(var_dic_list()) "
    }
   },
   "types_to_exclude": [
    "module",
    "function",
    "builtin_function_or_method",
    "instance",
    "_Feature"
   ],
   "window_display": false
  }
 },
 "nbformat": 4,
 "nbformat_minor": 4
}
